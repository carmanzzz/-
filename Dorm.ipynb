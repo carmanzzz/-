{
 "cells": [
  {
   "cell_type": "code",
   "execution_count": 1,
   "metadata": {},
   "outputs": [],
   "source": [
    "import pandas as pd\n",
    "import numpy as np\n",
    "import matplotlib.pyplot as plt\n",
    "from matplotlib.pylab import mpl\n",
    "import json\n",
    "import operator # for sort diction by value\n",
    "#from sets import Set\n",
    "from datetime import date, time, datetime\n",
    "#import readfromfile\n",
    "import sys\n",
    "mpl.rcParams['font.sans-serif'] = ['SimHei']\n",
    "%matplotlib inline "
   ]
  },
  {
   "cell_type": "code",
   "execution_count": 2,
   "metadata": {
    "scrolled": false
   },
   "outputs": [
    {
     "data": {
      "text/html": [
       "<div>\n",
       "<style scoped>\n",
       "    .dataframe tbody tr th:only-of-type {\n",
       "        vertical-align: middle;\n",
       "    }\n",
       "\n",
       "    .dataframe tbody tr th {\n",
       "        vertical-align: top;\n",
       "    }\n",
       "\n",
       "    .dataframe thead th {\n",
       "        text-align: right;\n",
       "    }\n",
       "</style>\n",
       "<table border=\"1\" class=\"dataframe\">\n",
       "  <thead>\n",
       "    <tr style=\"text-align: right;\">\n",
       "      <th></th>\n",
       "      <th>user_id</th>\n",
       "      <th>time</th>\n",
       "      <th>in&amp;out</th>\n",
       "    </tr>\n",
       "  </thead>\n",
       "  <tbody>\n",
       "    <tr>\n",
       "      <th>0</th>\n",
       "      <td>13126</td>\n",
       "      <td>\"2014/01/21 03:31:11\"</td>\n",
       "      <td>\"1\"</td>\n",
       "    </tr>\n",
       "    <tr>\n",
       "      <th>1</th>\n",
       "      <td>13126</td>\n",
       "      <td>\"2014/01/21 04:53:55\"</td>\n",
       "      <td>\"0\"</td>\n",
       "    </tr>\n",
       "    <tr>\n",
       "      <th>2</th>\n",
       "      <td>18484</td>\n",
       "      <td>\"2014/01/21 05:16:18\"</td>\n",
       "      <td>\"1\"</td>\n",
       "    </tr>\n",
       "    <tr>\n",
       "      <th>3</th>\n",
       "      <td>296</td>\n",
       "      <td>\"2014/01/21 05:55:05\"</td>\n",
       "      <td>\"1\"</td>\n",
       "    </tr>\n",
       "    <tr>\n",
       "      <th>4</th>\n",
       "      <td>9760</td>\n",
       "      <td>\"2014/01/21 08:44:53\"</td>\n",
       "      <td>\"1\"</td>\n",
       "    </tr>\n",
       "  </tbody>\n",
       "</table>\n",
       "</div>"
      ],
      "text/plain": [
       "   user_id                   time in&out\n",
       "0    13126  \"2014/01/21 03:31:11\"    \"1\"\n",
       "1    13126  \"2014/01/21 04:53:55\"    \"0\"\n",
       "2    18484  \"2014/01/21 05:16:18\"    \"1\"\n",
       "3      296  \"2014/01/21 05:55:05\"    \"1\"\n",
       "4     9760  \"2014/01/21 08:44:53\"    \"1\""
      ]
     },
     "execution_count": 2,
     "metadata": {},
     "output_type": "execute_result"
    }
   ],
   "source": [
    "dorm_data=pd.read_table(r'E:/BaiduNetdiskDownload/jzzz/train/dorm_train.txt', sep = ',', quotechar =',',\n",
    "                          names = ['user_id','time','in&out',],\n",
    "                          encoding='utf-8',header=None)\n",
    "dorm_data.head()\n",
    "#0表示进寝室，1表示出寝室  "
   ]
  },
  {
   "cell_type": "code",
   "execution_count": 5,
   "metadata": {},
   "outputs": [],
   "source": [
    "#dorm_data.index\n",
    "#len(dorm_data.user_id.unique())\n",
    "#dorm_data.info()"
   ]
  },
  {
   "cell_type": "code",
   "execution_count": 11,
   "metadata": {},
   "outputs": [],
   "source": [
    "#以“user_id”进行排序,总共的出入次数\n",
    "#dorm_data1=dorm_data.groupby(['user_id'])['time'].count()\n",
    "#dorm_data1"
   ]
  },
  {
   "cell_type": "code",
   "execution_count": 22,
   "metadata": {
    "scrolled": true
   },
   "outputs": [
    {
     "data": {
      "text/html": [
       "<div>\n",
       "<style scoped>\n",
       "    .dataframe tbody tr th:only-of-type {\n",
       "        vertical-align: middle;\n",
       "    }\n",
       "\n",
       "    .dataframe tbody tr th {\n",
       "        vertical-align: top;\n",
       "    }\n",
       "\n",
       "    .dataframe thead th {\n",
       "        text-align: right;\n",
       "    }\n",
       "</style>\n",
       "<table border=\"1\" class=\"dataframe\">\n",
       "  <thead>\n",
       "    <tr style=\"text-align: right;\">\n",
       "      <th></th>\n",
       "      <th>user_id</th>\n",
       "      <th>time</th>\n",
       "      <th>in&amp;out</th>\n",
       "      <th>date</th>\n",
       "      <th>month</th>\n",
       "      <th>hour</th>\n",
       "      <th>time1</th>\n",
       "    </tr>\n",
       "  </thead>\n",
       "  <tbody>\n",
       "    <tr>\n",
       "      <th>0</th>\n",
       "      <td>13126</td>\n",
       "      <td>\"2014/01/21 03:31:11\"</td>\n",
       "      <td>\"1\"</td>\n",
       "      <td>2014/01/21</td>\n",
       "      <td>01</td>\n",
       "      <td>03</td>\n",
       "      <td>03:31:11</td>\n",
       "    </tr>\n",
       "    <tr>\n",
       "      <th>1</th>\n",
       "      <td>13126</td>\n",
       "      <td>\"2014/01/21 04:53:55\"</td>\n",
       "      <td>\"0\"</td>\n",
       "      <td>2014/01/21</td>\n",
       "      <td>01</td>\n",
       "      <td>04</td>\n",
       "      <td>04:53:55</td>\n",
       "    </tr>\n",
       "    <tr>\n",
       "      <th>2</th>\n",
       "      <td>18484</td>\n",
       "      <td>\"2014/01/21 05:16:18\"</td>\n",
       "      <td>\"1\"</td>\n",
       "      <td>2014/01/21</td>\n",
       "      <td>01</td>\n",
       "      <td>05</td>\n",
       "      <td>05:16:18</td>\n",
       "    </tr>\n",
       "    <tr>\n",
       "      <th>3</th>\n",
       "      <td>296</td>\n",
       "      <td>\"2014/01/21 05:55:05\"</td>\n",
       "      <td>\"1\"</td>\n",
       "      <td>2014/01/21</td>\n",
       "      <td>01</td>\n",
       "      <td>05</td>\n",
       "      <td>05:55:05</td>\n",
       "    </tr>\n",
       "    <tr>\n",
       "      <th>4</th>\n",
       "      <td>9760</td>\n",
       "      <td>\"2014/01/21 08:44:53\"</td>\n",
       "      <td>\"1\"</td>\n",
       "      <td>2014/01/21</td>\n",
       "      <td>01</td>\n",
       "      <td>08</td>\n",
       "      <td>08:44:53</td>\n",
       "    </tr>\n",
       "    <tr>\n",
       "      <th>5</th>\n",
       "      <td>6778</td>\n",
       "      <td>\"2014/01/21 09:21:33\"</td>\n",
       "      <td>\"1\"</td>\n",
       "      <td>2014/01/21</td>\n",
       "      <td>01</td>\n",
       "      <td>09</td>\n",
       "      <td>09:21:33</td>\n",
       "    </tr>\n",
       "    <tr>\n",
       "      <th>6</th>\n",
       "      <td>18200</td>\n",
       "      <td>\"2014/01/21 09:50:07\"</td>\n",
       "      <td>\"1\"</td>\n",
       "      <td>2014/01/21</td>\n",
       "      <td>01</td>\n",
       "      <td>09</td>\n",
       "      <td>09:50:07</td>\n",
       "    </tr>\n",
       "    <tr>\n",
       "      <th>7</th>\n",
       "      <td>8894</td>\n",
       "      <td>\"2014/01/21 10:09:52\"</td>\n",
       "      <td>\"1\"</td>\n",
       "      <td>2014/01/21</td>\n",
       "      <td>01</td>\n",
       "      <td>10</td>\n",
       "      <td>10:09:52</td>\n",
       "    </tr>\n",
       "    <tr>\n",
       "      <th>8</th>\n",
       "      <td>9228</td>\n",
       "      <td>\"2014/01/21 10:28:23\"</td>\n",
       "      <td>\"0\"</td>\n",
       "      <td>2014/01/21</td>\n",
       "      <td>01</td>\n",
       "      <td>10</td>\n",
       "      <td>10:28:23</td>\n",
       "    </tr>\n",
       "    <tr>\n",
       "      <th>9</th>\n",
       "      <td>6778</td>\n",
       "      <td>\"2014/01/21 10:36:06\"</td>\n",
       "      <td>\"0\"</td>\n",
       "      <td>2014/01/21</td>\n",
       "      <td>01</td>\n",
       "      <td>10</td>\n",
       "      <td>10:36:06</td>\n",
       "    </tr>\n",
       "  </tbody>\n",
       "</table>\n",
       "</div>"
      ],
      "text/plain": [
       "   user_id                   time in&out        date month hour     time1\n",
       "0    13126  \"2014/01/21 03:31:11\"    \"1\"  2014/01/21    01   03  03:31:11\n",
       "1    13126  \"2014/01/21 04:53:55\"    \"0\"  2014/01/21    01   04  04:53:55\n",
       "2    18484  \"2014/01/21 05:16:18\"    \"1\"  2014/01/21    01   05  05:16:18\n",
       "3      296  \"2014/01/21 05:55:05\"    \"1\"  2014/01/21    01   05  05:55:05\n",
       "4     9760  \"2014/01/21 08:44:53\"    \"1\"  2014/01/21    01   08  08:44:53\n",
       "5     6778  \"2014/01/21 09:21:33\"    \"1\"  2014/01/21    01   09  09:21:33\n",
       "6    18200  \"2014/01/21 09:50:07\"    \"1\"  2014/01/21    01   09  09:50:07\n",
       "7     8894  \"2014/01/21 10:09:52\"    \"1\"  2014/01/21    01   10  10:09:52\n",
       "8     9228  \"2014/01/21 10:28:23\"    \"0\"  2014/01/21    01   10  10:28:23\n",
       "9     6778  \"2014/01/21 10:36:06\"    \"0\"  2014/01/21    01   10  10:36:06"
      ]
     },
     "execution_count": 22,
     "metadata": {},
     "output_type": "execute_result"
    }
   ],
   "source": [
    "dorm_data['hour']=dorm_data['time'].str[12:14]  #截取出入的小时\n",
    "dorm_data[['hour']]\n",
    "dorm_data[:10]"
   ]
  },
  {
   "cell_type": "code",
   "execution_count": 23,
   "metadata": {
    "scrolled": false
   },
   "outputs": [],
   "source": [
    "dorm_data['hour']=dorm_data['hour'].astype('int')  #将hour列改为数字类型"
   ]
  },
  {
   "cell_type": "code",
   "execution_count": 63,
   "metadata": {},
   "outputs": [],
   "source": [
    "###???\n",
    "timeCritera = ['00_00', '01_00', '03_00', '06_00', '09_00', '11_20', '12_50', '16_50', '19_00', '22_00', '24_00']"
   ]
  },
  {
   "cell_type": "code",
   "execution_count": 13,
   "metadata": {},
   "outputs": [],
   "source": [
    "#拆分为日期+时间\n",
    "#接下来加工salary薪资字段。目的是计算出薪资下限以及薪资上限\n",
    "#用截取字符串也可以\n",
    "def cut_word(word):\n",
    "    position = word.find(' ')\n",
    "    if position != -1:\n",
    "        date=word[1: position]\n",
    "        time1=word[position+1:-1]\n",
    "    return date"
   ]
  },
  {
   "cell_type": "code",
   "execution_count": 14,
   "metadata": {},
   "outputs": [],
   "source": [
    "def cut_word2(word):\n",
    "    position = word.find(' ')\n",
    "    if position != -1:\n",
    "        time1=word[position+1:-1]\n",
    "    return time1"
   ]
  },
  {
   "cell_type": "code",
   "execution_count": 15,
   "metadata": {},
   "outputs": [
    {
     "data": {
      "text/html": [
       "<div>\n",
       "<style scoped>\n",
       "    .dataframe tbody tr th:only-of-type {\n",
       "        vertical-align: middle;\n",
       "    }\n",
       "\n",
       "    .dataframe tbody tr th {\n",
       "        vertical-align: top;\n",
       "    }\n",
       "\n",
       "    .dataframe thead th {\n",
       "        text-align: right;\n",
       "    }\n",
       "</style>\n",
       "<table border=\"1\" class=\"dataframe\">\n",
       "  <thead>\n",
       "    <tr style=\"text-align: right;\">\n",
       "      <th></th>\n",
       "      <th>user_id</th>\n",
       "      <th>time</th>\n",
       "      <th>in&amp;out</th>\n",
       "      <th>month</th>\n",
       "    </tr>\n",
       "  </thead>\n",
       "  <tbody>\n",
       "    <tr>\n",
       "      <th>0</th>\n",
       "      <td>13126</td>\n",
       "      <td>\"2014/01/21 03:31:11\"</td>\n",
       "      <td>\"1\"</td>\n",
       "      <td>01</td>\n",
       "    </tr>\n",
       "    <tr>\n",
       "      <th>1</th>\n",
       "      <td>13126</td>\n",
       "      <td>\"2014/01/21 04:53:55\"</td>\n",
       "      <td>\"0\"</td>\n",
       "      <td>01</td>\n",
       "    </tr>\n",
       "    <tr>\n",
       "      <th>2</th>\n",
       "      <td>18484</td>\n",
       "      <td>\"2014/01/21 05:16:18\"</td>\n",
       "      <td>\"1\"</td>\n",
       "      <td>01</td>\n",
       "    </tr>\n",
       "    <tr>\n",
       "      <th>3</th>\n",
       "      <td>296</td>\n",
       "      <td>\"2014/01/21 05:55:05\"</td>\n",
       "      <td>\"1\"</td>\n",
       "      <td>01</td>\n",
       "    </tr>\n",
       "    <tr>\n",
       "      <th>4</th>\n",
       "      <td>9760</td>\n",
       "      <td>\"2014/01/21 08:44:53\"</td>\n",
       "      <td>\"1\"</td>\n",
       "      <td>01</td>\n",
       "    </tr>\n",
       "  </tbody>\n",
       "</table>\n",
       "</div>"
      ],
      "text/plain": [
       "   user_id                   time in&out month\n",
       "0    13126  \"2014/01/21 03:31:11\"    \"1\"    01\n",
       "1    13126  \"2014/01/21 04:53:55\"    \"0\"    01\n",
       "2    18484  \"2014/01/21 05:16:18\"    \"1\"    01\n",
       "3      296  \"2014/01/21 05:55:05\"    \"1\"    01\n",
       "4     9760  \"2014/01/21 08:44:53\"    \"1\"    01"
      ]
     },
     "execution_count": 15,
     "metadata": {},
     "output_type": "execute_result"
    }
   ],
   "source": [
    "dorm_data['month']=dorm_data['time'].str[6:8]  #截取出入的月份\n",
    "dorm_data.head()"
   ]
  },
  {
   "cell_type": "code",
   "execution_count": 24,
   "metadata": {
    "scrolled": true
   },
   "outputs": [
    {
     "data": {
      "text/html": [
       "<div>\n",
       "<style scoped>\n",
       "    .dataframe tbody tr th:only-of-type {\n",
       "        vertical-align: middle;\n",
       "    }\n",
       "\n",
       "    .dataframe tbody tr th {\n",
       "        vertical-align: top;\n",
       "    }\n",
       "\n",
       "    .dataframe thead th {\n",
       "        text-align: right;\n",
       "    }\n",
       "</style>\n",
       "<table border=\"1\" class=\"dataframe\">\n",
       "  <thead>\n",
       "    <tr style=\"text-align: right;\">\n",
       "      <th></th>\n",
       "      <th>user_id</th>\n",
       "      <th>time</th>\n",
       "      <th>in&amp;out</th>\n",
       "      <th>date</th>\n",
       "      <th>month</th>\n",
       "      <th>hour</th>\n",
       "      <th>time1</th>\n",
       "    </tr>\n",
       "  </thead>\n",
       "  <tbody>\n",
       "    <tr>\n",
       "      <th>0</th>\n",
       "      <td>13126</td>\n",
       "      <td>\"2014/01/21 03:31:11\"</td>\n",
       "      <td>\"1\"</td>\n",
       "      <td>2014/01/21</td>\n",
       "      <td>01</td>\n",
       "      <td>3</td>\n",
       "      <td>03:31:11</td>\n",
       "    </tr>\n",
       "    <tr>\n",
       "      <th>1</th>\n",
       "      <td>13126</td>\n",
       "      <td>\"2014/01/21 04:53:55\"</td>\n",
       "      <td>\"0\"</td>\n",
       "      <td>2014/01/21</td>\n",
       "      <td>01</td>\n",
       "      <td>4</td>\n",
       "      <td>04:53:55</td>\n",
       "    </tr>\n",
       "    <tr>\n",
       "      <th>2</th>\n",
       "      <td>18484</td>\n",
       "      <td>\"2014/01/21 05:16:18\"</td>\n",
       "      <td>\"1\"</td>\n",
       "      <td>2014/01/21</td>\n",
       "      <td>01</td>\n",
       "      <td>5</td>\n",
       "      <td>05:16:18</td>\n",
       "    </tr>\n",
       "    <tr>\n",
       "      <th>3</th>\n",
       "      <td>296</td>\n",
       "      <td>\"2014/01/21 05:55:05\"</td>\n",
       "      <td>\"1\"</td>\n",
       "      <td>2014/01/21</td>\n",
       "      <td>01</td>\n",
       "      <td>5</td>\n",
       "      <td>05:55:05</td>\n",
       "    </tr>\n",
       "    <tr>\n",
       "      <th>4</th>\n",
       "      <td>9760</td>\n",
       "      <td>\"2014/01/21 08:44:53\"</td>\n",
       "      <td>\"1\"</td>\n",
       "      <td>2014/01/21</td>\n",
       "      <td>01</td>\n",
       "      <td>8</td>\n",
       "      <td>08:44:53</td>\n",
       "    </tr>\n",
       "  </tbody>\n",
       "</table>\n",
       "</div>"
      ],
      "text/plain": [
       "   user_id                   time in&out        date month  hour     time1\n",
       "0    13126  \"2014/01/21 03:31:11\"    \"1\"  2014/01/21    01     3  03:31:11\n",
       "1    13126  \"2014/01/21 04:53:55\"    \"0\"  2014/01/21    01     4  04:53:55\n",
       "2    18484  \"2014/01/21 05:16:18\"    \"1\"  2014/01/21    01     5  05:16:18\n",
       "3      296  \"2014/01/21 05:55:05\"    \"1\"  2014/01/21    01     5  05:55:05\n",
       "4     9760  \"2014/01/21 08:44:53\"    \"1\"  2014/01/21    01     8  08:44:53"
      ]
     },
     "execution_count": 24,
     "metadata": {},
     "output_type": "execute_result"
    }
   ],
   "source": [
    "dorm_data['date']=dorm_data.time.apply(cut_word)\n",
    "dorm_data['time1']=dorm_data.time.apply(cut_word2)\n",
    "dorm_data.head()"
   ]
  },
  {
   "cell_type": "code",
   "execution_count": 25,
   "metadata": {},
   "outputs": [
    {
     "data": {
      "text/plain": [
       "user_id     int64\n",
       "time       object\n",
       "in&out     object\n",
       "date       object\n",
       "month      object\n",
       "hour        int32\n",
       "time1      object\n",
       "dtype: object"
      ]
     },
     "execution_count": 25,
     "metadata": {},
     "output_type": "execute_result"
    }
   ],
   "source": [
    "dorm_data.dtypes"
   ]
  },
  {
   "cell_type": "code",
   "execution_count": 26,
   "metadata": {},
   "outputs": [
    {
     "data": {
      "text/html": [
       "<div>\n",
       "<style scoped>\n",
       "    .dataframe tbody tr th:only-of-type {\n",
       "        vertical-align: middle;\n",
       "    }\n",
       "\n",
       "    .dataframe tbody tr th {\n",
       "        vertical-align: top;\n",
       "    }\n",
       "\n",
       "    .dataframe thead th {\n",
       "        text-align: right;\n",
       "    }\n",
       "</style>\n",
       "<table border=\"1\" class=\"dataframe\">\n",
       "  <thead>\n",
       "    <tr style=\"text-align: right;\">\n",
       "      <th></th>\n",
       "      <th>user_id</th>\n",
       "      <th>time</th>\n",
       "      <th>in&amp;out</th>\n",
       "      <th>date</th>\n",
       "      <th>month</th>\n",
       "      <th>hour</th>\n",
       "      <th>time1</th>\n",
       "    </tr>\n",
       "  </thead>\n",
       "  <tbody>\n",
       "    <tr>\n",
       "      <th>0</th>\n",
       "      <td>13126</td>\n",
       "      <td>\"2014/01/21 03:31:11\"</td>\n",
       "      <td>\"1\"</td>\n",
       "      <td>2014/01/21</td>\n",
       "      <td>01</td>\n",
       "      <td>3</td>\n",
       "      <td>03:31:11</td>\n",
       "    </tr>\n",
       "    <tr>\n",
       "      <th>1</th>\n",
       "      <td>13126</td>\n",
       "      <td>\"2014/01/21 04:53:55\"</td>\n",
       "      <td>\"0\"</td>\n",
       "      <td>2014/01/21</td>\n",
       "      <td>01</td>\n",
       "      <td>4</td>\n",
       "      <td>04:53:55</td>\n",
       "    </tr>\n",
       "    <tr>\n",
       "      <th>2</th>\n",
       "      <td>18484</td>\n",
       "      <td>\"2014/01/21 05:16:18\"</td>\n",
       "      <td>\"1\"</td>\n",
       "      <td>2014/01/21</td>\n",
       "      <td>01</td>\n",
       "      <td>5</td>\n",
       "      <td>05:16:18</td>\n",
       "    </tr>\n",
       "    <tr>\n",
       "      <th>3</th>\n",
       "      <td>296</td>\n",
       "      <td>\"2014/01/21 05:55:05\"</td>\n",
       "      <td>\"1\"</td>\n",
       "      <td>2014/01/21</td>\n",
       "      <td>01</td>\n",
       "      <td>5</td>\n",
       "      <td>05:55:05</td>\n",
       "    </tr>\n",
       "    <tr>\n",
       "      <th>4</th>\n",
       "      <td>9760</td>\n",
       "      <td>\"2014/01/21 08:44:53\"</td>\n",
       "      <td>\"1\"</td>\n",
       "      <td>2014/01/21</td>\n",
       "      <td>01</td>\n",
       "      <td>8</td>\n",
       "      <td>08:44:53</td>\n",
       "    </tr>\n",
       "  </tbody>\n",
       "</table>\n",
       "</div>"
      ],
      "text/plain": [
       "   user_id                   time in&out        date month  hour     time1\n",
       "0    13126  \"2014/01/21 03:31:11\"    \"1\"  2014/01/21    01     3  03:31:11\n",
       "1    13126  \"2014/01/21 04:53:55\"    \"0\"  2014/01/21    01     4  04:53:55\n",
       "2    18484  \"2014/01/21 05:16:18\"    \"1\"  2014/01/21    01     5  05:16:18\n",
       "3      296  \"2014/01/21 05:55:05\"    \"1\"  2014/01/21    01     5  05:55:05\n",
       "4     9760  \"2014/01/21 08:44:53\"    \"1\"  2014/01/21    01     8  08:44:53"
      ]
     },
     "execution_count": 26,
     "metadata": {},
     "output_type": "execute_result"
    }
   ],
   "source": [
    "dorm_data=pd.DataFrame(dorm_data,columns=['user_id','time', 'in&out', 'date','month','hour','time1'])\n",
    "dorm_data.head()"
   ]
  },
  {
   "cell_type": "code",
   "execution_count": 27,
   "metadata": {},
   "outputs": [
    {
     "data": {
      "text/plain": [
       "array(['01', '02', '03', '04', '05', '06', '07', '08'], dtype=object)"
      ]
     },
     "execution_count": 27,
     "metadata": {},
     "output_type": "execute_result"
    }
   ],
   "source": [
    "#出入的次数高峰\n",
    "dorm_data.month.unique()"
   ]
  },
  {
   "cell_type": "code",
   "execution_count": 42,
   "metadata": {},
   "outputs": [
    {
     "name": "stdout",
     "output_type": "stream",
     "text": [
      "<class 'pandas.core.frame.DataFrame'>\n",
      "RangeIndex: 2115064 entries, 0 to 2115063\n",
      "Data columns (total 7 columns):\n",
      "user_id    int64\n",
      "time       object\n",
      "in&out     object\n",
      "date       datetime64[ns]\n",
      "month      object\n",
      "hour       int32\n",
      "time1      object\n",
      "dtypes: datetime64[ns](1), int32(1), int64(1), object(4)\n",
      "memory usage: 104.9+ MB\n"
     ]
    }
   ],
   "source": [
    "dorm_data.date=pd.to_datetime(dorm_data['date'])\n",
    "dorm_data.info() ###"
   ]
  },
  {
   "cell_type": "code",
   "execution_count": 44,
   "metadata": {},
   "outputs": [
    {
     "ename": "AttributeError",
     "evalue": "'Timestamp' object has no attribute 'days'",
     "output_type": "error",
     "traceback": [
      "\u001b[1;31m---------------------------------------------------------------------------\u001b[0m",
      "\u001b[1;31mAttributeError\u001b[0m                            Traceback (most recent call last)",
      "\u001b[1;32m<ipython-input-44-726208460cc0>\u001b[0m in \u001b[0;36m<module>\u001b[1;34m()\u001b[0m\n\u001b[1;32m----> 1\u001b[1;33m \u001b[0mdorm_data\u001b[0m\u001b[1;33m[\u001b[0m\u001b[1;34m'date'\u001b[0m\u001b[1;33m]\u001b[0m\u001b[1;33m.\u001b[0m\u001b[0mmax\u001b[0m\u001b[1;33m(\u001b[0m\u001b[1;33m)\u001b[0m\u001b[1;33m.\u001b[0m\u001b[0mdays\u001b[0m\u001b[1;33m\u001b[0m\u001b[0m\n\u001b[0m",
      "\u001b[1;31mAttributeError\u001b[0m: 'Timestamp' object has no attribute 'days'"
     ]
    }
   ],
   "source": [
    "dorm_data['date'].max()"
   ]
  },
  {
   "cell_type": "code",
   "execution_count": null,
   "metadata": {},
   "outputs": [],
   "source": []
  }
 ],
 "metadata": {
  "kernelspec": {
   "display_name": "Python 3",
   "language": "python",
   "name": "python3"
  },
  "language_info": {
   "codemirror_mode": {
    "name": "ipython",
    "version": 3
   },
   "file_extension": ".py",
   "mimetype": "text/x-python",
   "name": "python",
   "nbconvert_exporter": "python",
   "pygments_lexer": "ipython3",
   "version": "3.7.0"
  }
 },
 "nbformat": 4,
 "nbformat_minor": 2
}
