{
 "cells": [
  {
   "cell_type": "code",
   "execution_count": 1,
   "metadata": {},
   "outputs": [],
   "source": [
    "import pandas as pd\n",
    "import numpy as np\n",
    "import matplotlib.pyplot as plt\n",
    "from matplotlib.pylab import mpl\n",
    "import seaborn as sns\n",
    "mpl.rcParams['font.sans-serif'] = ['SimHei']\n",
    "import time\n",
    "import datetime\n",
    "%matplotlib inline"
   ]
  },
  {
   "cell_type": "code",
   "execution_count": 2,
   "metadata": {
    "scrolled": false
   },
   "outputs": [
    {
     "data": {
      "text/html": [
       "<div>\n",
       "<style scoped>\n",
       "    .dataframe tbody tr th:only-of-type {\n",
       "        vertical-align: middle;\n",
       "    }\n",
       "\n",
       "    .dataframe tbody tr th {\n",
       "        vertical-align: top;\n",
       "    }\n",
       "\n",
       "    .dataframe thead th {\n",
       "        text-align: right;\n",
       "    }\n",
       "</style>\n",
       "<table border=\"1\" class=\"dataframe\">\n",
       "  <thead>\n",
       "    <tr style=\"text-align: right;\">\n",
       "      <th></th>\n",
       "      <th>user_id</th>\n",
       "      <th>consume</th>\n",
       "      <th>place</th>\n",
       "      <th>kind</th>\n",
       "      <th>time</th>\n",
       "      <th>amount</th>\n",
       "      <th>remainder</th>\n",
       "    </tr>\n",
       "  </thead>\n",
       "  <tbody>\n",
       "    <tr>\n",
       "      <th>0</th>\n",
       "      <td>1006</td>\n",
       "      <td>POS消费</td>\n",
       "      <td>地点551</td>\n",
       "      <td>淋浴</td>\n",
       "      <td>2013/09/01 00:00:32</td>\n",
       "      <td>0.50</td>\n",
       "      <td>124.90</td>\n",
       "    </tr>\n",
       "    <tr>\n",
       "      <th>1</th>\n",
       "      <td>1968</td>\n",
       "      <td>POS消费</td>\n",
       "      <td>地点159</td>\n",
       "      <td>淋浴</td>\n",
       "      <td>2013/09/01 00:00:39</td>\n",
       "      <td>0.10</td>\n",
       "      <td>200.14</td>\n",
       "    </tr>\n",
       "    <tr>\n",
       "      <th>2</th>\n",
       "      <td>1406</td>\n",
       "      <td>POS消费</td>\n",
       "      <td>地点660</td>\n",
       "      <td>开水</td>\n",
       "      <td>2013/09/01 00:00:40</td>\n",
       "      <td>0.01</td>\n",
       "      <td>374.42</td>\n",
       "    </tr>\n",
       "    <tr>\n",
       "      <th>3</th>\n",
       "      <td>1406</td>\n",
       "      <td>POS消费</td>\n",
       "      <td>地点78</td>\n",
       "      <td>其他</td>\n",
       "      <td>2013/09/01 00:00:40</td>\n",
       "      <td>0.60</td>\n",
       "      <td>373.82</td>\n",
       "    </tr>\n",
       "    <tr>\n",
       "      <th>4</th>\n",
       "      <td>13554</td>\n",
       "      <td>POS消费</td>\n",
       "      <td>地点6</td>\n",
       "      <td>淋浴</td>\n",
       "      <td>2013/09/01 00:00:57</td>\n",
       "      <td>0.50</td>\n",
       "      <td>522.37</td>\n",
       "    </tr>\n",
       "  </tbody>\n",
       "</table>\n",
       "</div>"
      ],
      "text/plain": [
       "   user_id consume  place kind                 time  amount  remainder\n",
       "0     1006   POS消费  地点551   淋浴  2013/09/01 00:00:32    0.50     124.90\n",
       "1     1968   POS消费  地点159   淋浴  2013/09/01 00:00:39    0.10     200.14\n",
       "2     1406   POS消费  地点660   开水  2013/09/01 00:00:40    0.01     374.42\n",
       "3     1406   POS消费   地点78   其他  2013/09/01 00:00:40    0.60     373.82\n",
       "4    13554   POS消费    地点6   淋浴  2013/09/01 00:00:57    0.50     522.37"
      ]
     },
     "execution_count": 2,
     "metadata": {},
     "output_type": "execute_result"
    }
   ],
   "source": [
    "card_data=pd.read_csv('E:/BaiduNetdiskDownload/jzzz/train/card_train.txt',header=None)\n",
    "card_data.columns = ['user_id','consume','place','kind','time','amount','remainder']\n",
    "card_data.dropna(how='all') #删除value全部为空的行\n",
    "card_data = card_data.drop_duplicates().reset_index(drop=True)     #去除重复值的行\n",
    "card_data.head()"
   ]
  },
  {
   "cell_type": "code",
   "execution_count": 7,
   "metadata": {
    "scrolled": true
   },
   "outputs": [],
   "source": [
    "#card_data.info()"
   ]
  },
  {
   "cell_type": "code",
   "execution_count": 8,
   "metadata": {
    "scrolled": true
   },
   "outputs": [],
   "source": [
    "#其他的相关信息\n",
    "#len(card_data.user_id.unique())\n",
    "#card_data.consume.unique()\n",
    "#len(card_data.place.unique())\n",
    "#card_data.kind.unique()"
   ]
  },
  {
   "cell_type": "code",
   "execution_count": 12,
   "metadata": {
    "scrolled": true
   },
   "outputs": [
    {
     "data": {
      "text/plain": [
       "user_id           0\n",
       "consume       29925\n",
       "place        408827\n",
       "kind         408827\n",
       "time              0\n",
       "amount            0\n",
       "remainder         0\n",
       "dtype: int64"
      ]
     },
     "execution_count": 12,
     "metadata": {},
     "output_type": "execute_result"
    }
   ],
   "source": [
    "# 缺失值处理\n",
    "# 查看缺失值\n",
    "card_data.isnull().sum()"
   ]
  },
  {
   "cell_type": "code",
   "execution_count": 3,
   "metadata": {
    "scrolled": false
   },
   "outputs": [
    {
     "data": {
      "text/html": [
       "<div>\n",
       "<style scoped>\n",
       "    .dataframe tbody tr th:only-of-type {\n",
       "        vertical-align: middle;\n",
       "    }\n",
       "\n",
       "    .dataframe tbody tr th {\n",
       "        vertical-align: top;\n",
       "    }\n",
       "\n",
       "    .dataframe thead th {\n",
       "        text-align: right;\n",
       "    }\n",
       "</style>\n",
       "<table border=\"1\" class=\"dataframe\">\n",
       "  <thead>\n",
       "    <tr style=\"text-align: right;\">\n",
       "      <th></th>\n",
       "      <th>user_id</th>\n",
       "      <th>consume</th>\n",
       "      <th>place</th>\n",
       "      <th>kind</th>\n",
       "      <th>time</th>\n",
       "      <th>amount</th>\n",
       "      <th>remainder</th>\n",
       "      <th>date</th>\n",
       "    </tr>\n",
       "  </thead>\n",
       "  <tbody>\n",
       "    <tr>\n",
       "      <th>12089904</th>\n",
       "      <td>21389</td>\n",
       "      <td>POS消费</td>\n",
       "      <td>地点1115</td>\n",
       "      <td>淋浴</td>\n",
       "      <td>2015/08/31 23:58:49</td>\n",
       "      <td>0.3</td>\n",
       "      <td>75.62</td>\n",
       "      <td>2015/08/31</td>\n",
       "    </tr>\n",
       "    <tr>\n",
       "      <th>12089905</th>\n",
       "      <td>5499</td>\n",
       "      <td>POS消费</td>\n",
       "      <td>地点2229</td>\n",
       "      <td>淋浴</td>\n",
       "      <td>2015/08/31 23:59:11</td>\n",
       "      <td>0.5</td>\n",
       "      <td>108.69</td>\n",
       "      <td>2015/08/31</td>\n",
       "    </tr>\n",
       "    <tr>\n",
       "      <th>12089906</th>\n",
       "      <td>267</td>\n",
       "      <td>POS消费</td>\n",
       "      <td>地点98</td>\n",
       "      <td>淋浴</td>\n",
       "      <td>2015/08/31 23:59:16</td>\n",
       "      <td>0.8</td>\n",
       "      <td>14.08</td>\n",
       "      <td>2015/08/31</td>\n",
       "    </tr>\n",
       "    <tr>\n",
       "      <th>12089907</th>\n",
       "      <td>29401</td>\n",
       "      <td>POS消费</td>\n",
       "      <td>地点2073</td>\n",
       "      <td>淋浴</td>\n",
       "      <td>2015/08/31 23:59:26</td>\n",
       "      <td>0.9</td>\n",
       "      <td>8.77</td>\n",
       "      <td>2015/08/31</td>\n",
       "    </tr>\n",
       "    <tr>\n",
       "      <th>12089908</th>\n",
       "      <td>27533</td>\n",
       "      <td>POS消费</td>\n",
       "      <td>地点757</td>\n",
       "      <td>淋浴</td>\n",
       "      <td>2015/08/31 23:59:43</td>\n",
       "      <td>0.6</td>\n",
       "      <td>154.35</td>\n",
       "      <td>2015/08/31</td>\n",
       "    </tr>\n",
       "  </tbody>\n",
       "</table>\n",
       "</div>"
      ],
      "text/plain": [
       "          user_id consume   place kind                 time  amount  \\\n",
       "12089904    21389   POS消费  地点1115   淋浴  2015/08/31 23:58:49     0.3   \n",
       "12089905     5499   POS消费  地点2229   淋浴  2015/08/31 23:59:11     0.5   \n",
       "12089906      267   POS消费    地点98   淋浴  2015/08/31 23:59:16     0.8   \n",
       "12089907    29401   POS消费  地点2073   淋浴  2015/08/31 23:59:26     0.9   \n",
       "12089908    27533   POS消费   地点757   淋浴  2015/08/31 23:59:43     0.6   \n",
       "\n",
       "          remainder        date  \n",
       "12089904      75.62  2015/08/31  \n",
       "12089905     108.69  2015/08/31  \n",
       "12089906      14.08  2015/08/31  \n",
       "12089907       8.77  2015/08/31  \n",
       "12089908     154.35  2015/08/31  "
      ]
     },
     "execution_count": 3,
     "metadata": {},
     "output_type": "execute_result"
    }
   ],
   "source": [
    "###拆分一下月份，观察涉及多少天的数据\n",
    "card_data['date']=card_data['time'].str[0:10] \n",
    "card_data.tail()\n",
    "#card_data.month.unique()  "
   ]
  },
  {
   "cell_type": "code",
   "execution_count": 34,
   "metadata": {},
   "outputs": [
    {
     "data": {
      "text/plain": [
       "array(['09', '10', '11', '12', '01', '02', '03', '04', '05', '06', '07',\n",
       "       '08'], dtype=object)"
      ]
     },
     "execution_count": 34,
     "metadata": {},
     "output_type": "execute_result"
    }
   ],
   "source": [
    "month=card_data['date'].str[5:7]\n",
    "month.unique()"
   ]
  },
  {
   "cell_type": "code",
   "execution_count": 4,
   "metadata": {
    "scrolled": true
   },
   "outputs": [
    {
     "data": {
      "text/html": [
       "<div>\n",
       "<style scoped>\n",
       "    .dataframe tbody tr th:only-of-type {\n",
       "        vertical-align: middle;\n",
       "    }\n",
       "\n",
       "    .dataframe tbody tr th {\n",
       "        vertical-align: top;\n",
       "    }\n",
       "\n",
       "    .dataframe thead th {\n",
       "        text-align: right;\n",
       "    }\n",
       "</style>\n",
       "<table border=\"1\" class=\"dataframe\">\n",
       "  <thead>\n",
       "    <tr style=\"text-align: right;\">\n",
       "      <th></th>\n",
       "      <th>user_id</th>\n",
       "      <th>date</th>\n",
       "    </tr>\n",
       "  </thead>\n",
       "  <tbody>\n",
       "    <tr>\n",
       "      <th>0</th>\n",
       "      <td>1006</td>\n",
       "      <td>2013/09/01</td>\n",
       "    </tr>\n",
       "    <tr>\n",
       "      <th>1</th>\n",
       "      <td>1968</td>\n",
       "      <td>2013/09/01</td>\n",
       "    </tr>\n",
       "    <tr>\n",
       "      <th>2</th>\n",
       "      <td>1406</td>\n",
       "      <td>2013/09/01</td>\n",
       "    </tr>\n",
       "    <tr>\n",
       "      <th>3</th>\n",
       "      <td>13554</td>\n",
       "      <td>2013/09/01</td>\n",
       "    </tr>\n",
       "    <tr>\n",
       "      <th>4</th>\n",
       "      <td>5582</td>\n",
       "      <td>2013/09/01</td>\n",
       "    </tr>\n",
       "  </tbody>\n",
       "</table>\n",
       "</div>"
      ],
      "text/plain": [
       "   user_id        date\n",
       "0     1006  2013/09/01\n",
       "1     1968  2013/09/01\n",
       "2     1406  2013/09/01\n",
       "3    13554  2013/09/01\n",
       "4     5582  2013/09/01"
      ]
     },
     "execution_count": 4,
     "metadata": {},
     "output_type": "execute_result"
    }
   ],
   "source": [
    "#计算每个学生的在校天数,在之前要以date为单位截取\n",
    "card_time=card_data[['user_id','date']]\n",
    "card_time = card_time.drop_duplicates().reset_index(drop=True)\n",
    "card_time.head()\n",
    "#card_time.shape"
   ]
  },
  {
   "cell_type": "code",
   "execution_count": 15,
   "metadata": {},
   "outputs": [
    {
     "data": {
      "text/html": [
       "<div>\n",
       "<style scoped>\n",
       "    .dataframe tbody tr th:only-of-type {\n",
       "        vertical-align: middle;\n",
       "    }\n",
       "\n",
       "    .dataframe tbody tr th {\n",
       "        vertical-align: top;\n",
       "    }\n",
       "\n",
       "    .dataframe thead th {\n",
       "        text-align: right;\n",
       "    }\n",
       "</style>\n",
       "<table border=\"1\" class=\"dataframe\">\n",
       "  <thead>\n",
       "    <tr style=\"text-align: right;\">\n",
       "      <th></th>\n",
       "      <th>user_id</th>\n",
       "      <th>date</th>\n",
       "    </tr>\n",
       "  </thead>\n",
       "  <tbody>\n",
       "    <tr>\n",
       "      <th>0</th>\n",
       "      <td>0</td>\n",
       "      <td>186</td>\n",
       "    </tr>\n",
       "    <tr>\n",
       "      <th>1</th>\n",
       "      <td>1</td>\n",
       "      <td>140</td>\n",
       "    </tr>\n",
       "    <tr>\n",
       "      <th>2</th>\n",
       "      <td>8</td>\n",
       "      <td>281</td>\n",
       "    </tr>\n",
       "    <tr>\n",
       "      <th>3</th>\n",
       "      <td>9</td>\n",
       "      <td>271</td>\n",
       "    </tr>\n",
       "    <tr>\n",
       "      <th>4</th>\n",
       "      <td>10</td>\n",
       "      <td>209</td>\n",
       "    </tr>\n",
       "    <tr>\n",
       "      <th>5</th>\n",
       "      <td>11</td>\n",
       "      <td>238</td>\n",
       "    </tr>\n",
       "    <tr>\n",
       "      <th>6</th>\n",
       "      <td>19</td>\n",
       "      <td>104</td>\n",
       "    </tr>\n",
       "    <tr>\n",
       "      <th>7</th>\n",
       "      <td>20</td>\n",
       "      <td>161</td>\n",
       "    </tr>\n",
       "    <tr>\n",
       "      <th>8</th>\n",
       "      <td>21</td>\n",
       "      <td>61</td>\n",
       "    </tr>\n",
       "    <tr>\n",
       "      <th>9</th>\n",
       "      <td>22</td>\n",
       "      <td>283</td>\n",
       "    </tr>\n",
       "  </tbody>\n",
       "</table>\n",
       "</div>"
      ],
      "text/plain": [
       "   user_id  date\n",
       "0        0   186\n",
       "1        1   140\n",
       "2        8   281\n",
       "3        9   271\n",
       "4       10   209\n",
       "5       11   238\n",
       "6       19   104\n",
       "7       20   161\n",
       "8       21    61\n",
       "9       22   283"
      ]
     },
     "execution_count": 15,
     "metadata": {},
     "output_type": "execute_result"
    }
   ],
   "source": [
    "#对其进行分组计算,用date和消费总额做一个计算\n",
    "card_time_group=card_time.groupby(['user_id'])['date'].count().reset_index()\n",
    "card_time_group[:10]"
   ]
  },
  {
   "cell_type": "code",
   "execution_count": 29,
   "metadata": {},
   "outputs": [],
   "source": [
    "###判断其消费水平，消费结构以及恩格尔系数"
   ]
  },
  {
   "cell_type": "code",
   "execution_count": 5,
   "metadata": {},
   "outputs": [
    {
     "data": {
      "text/plain": [
       "user_id  kind\n",
       "0        图书馆       84.40\n",
       "         开水       399.65\n",
       "         文印中心       0.30\n",
       "         校车       399.20\n",
       "         淋浴        12.00\n",
       "         超市       796.78\n",
       "         食堂       630.81\n",
       "1        图书馆      270.60\n",
       "         开水       262.79\n",
       "         教务处       29.30\n",
       "         文印中心      96.40\n",
       "         校车       116.40\n",
       "         洗衣房       20.58\n",
       "         淋浴        21.50\n",
       "         超市       506.60\n",
       "         食堂      1507.80\n",
       "8        图书馆      403.30\n",
       "         开水      2373.02\n",
       "         文印中心       2.00\n",
       "         校车      2118.85\n",
       "         洗衣房        4.50\n",
       "         淋浴        39.33\n",
       "         超市        10.00\n",
       "         食堂       378.15\n",
       "9        其他        61.13\n",
       "         图书馆      111.93\n",
       "         开水      4613.21\n",
       "         文印中心     294.40\n",
       "         校车       158.10\n",
       "         洗衣房       23.82\n",
       "                  ...   \n",
       "32666    教务处        5.70\n",
       "         校车       181.80\n",
       "         洗衣房       40.92\n",
       "         淋浴       153.55\n",
       "         超市      1304.80\n",
       "         食堂      2791.05\n",
       "32667    其他        10.00\n",
       "         图书馆      387.30\n",
       "         开水       719.60\n",
       "         教务处       88.50\n",
       "         文印中心     554.70\n",
       "         校车       293.03\n",
       "         洗衣房       88.86\n",
       "         淋浴       144.70\n",
       "         超市      1370.50\n",
       "         食堂      3804.35\n",
       "32670    图书馆        5.30\n",
       "         开水       395.14\n",
       "         教务处       16.00\n",
       "         校车       283.70\n",
       "         洗衣房        5.54\n",
       "         淋浴        19.10\n",
       "         超市       636.30\n",
       "         食堂      1367.43\n",
       "32671    开水         2.25\n",
       "         文印中心       0.45\n",
       "         校车        14.00\n",
       "         淋浴        22.00\n",
       "         超市        21.90\n",
       "         食堂        10.00\n",
       "Name: amount, Length: 86786, dtype: float64"
      ]
     },
     "execution_count": 5,
     "metadata": {},
     "output_type": "execute_result"
    }
   ],
   "source": [
    "#对user_id和kind进行分组，在对amount进行求和\n",
    "card_group=card_data.groupby(['user_id','kind'])['amount'].sum()\n",
    "card_group"
   ]
  },
  {
   "cell_type": "code",
   "execution_count": 6,
   "metadata": {
    "scrolled": false
   },
   "outputs": [
    {
     "data": {
      "text/html": [
       "<div>\n",
       "<style scoped>\n",
       "    .dataframe tbody tr th:only-of-type {\n",
       "        vertical-align: middle;\n",
       "    }\n",
       "\n",
       "    .dataframe tbody tr th {\n",
       "        vertical-align: top;\n",
       "    }\n",
       "\n",
       "    .dataframe thead th {\n",
       "        text-align: right;\n",
       "    }\n",
       "</style>\n",
       "<table border=\"1\" class=\"dataframe\">\n",
       "  <thead>\n",
       "    <tr style=\"text-align: right;\">\n",
       "      <th>kind</th>\n",
       "      <th>其他</th>\n",
       "      <th>图书馆</th>\n",
       "      <th>开水</th>\n",
       "      <th>教务处</th>\n",
       "      <th>文印中心</th>\n",
       "      <th>校医院</th>\n",
       "      <th>校车</th>\n",
       "      <th>洗衣房</th>\n",
       "      <th>淋浴</th>\n",
       "      <th>超市</th>\n",
       "      <th>食堂</th>\n",
       "    </tr>\n",
       "    <tr>\n",
       "      <th>user_id</th>\n",
       "      <th></th>\n",
       "      <th></th>\n",
       "      <th></th>\n",
       "      <th></th>\n",
       "      <th></th>\n",
       "      <th></th>\n",
       "      <th></th>\n",
       "      <th></th>\n",
       "      <th></th>\n",
       "      <th></th>\n",
       "      <th></th>\n",
       "    </tr>\n",
       "  </thead>\n",
       "  <tbody>\n",
       "    <tr>\n",
       "      <th>0</th>\n",
       "      <td>0.00</td>\n",
       "      <td>84.40</td>\n",
       "      <td>399.65</td>\n",
       "      <td>0.0</td>\n",
       "      <td>0.3</td>\n",
       "      <td>0.0</td>\n",
       "      <td>399.20</td>\n",
       "      <td>0.00</td>\n",
       "      <td>12.00</td>\n",
       "      <td>796.78</td>\n",
       "      <td>630.81</td>\n",
       "    </tr>\n",
       "    <tr>\n",
       "      <th>1</th>\n",
       "      <td>0.00</td>\n",
       "      <td>270.60</td>\n",
       "      <td>262.79</td>\n",
       "      <td>29.3</td>\n",
       "      <td>96.4</td>\n",
       "      <td>0.0</td>\n",
       "      <td>116.40</td>\n",
       "      <td>20.58</td>\n",
       "      <td>21.50</td>\n",
       "      <td>506.60</td>\n",
       "      <td>1507.80</td>\n",
       "    </tr>\n",
       "    <tr>\n",
       "      <th>8</th>\n",
       "      <td>0.00</td>\n",
       "      <td>403.30</td>\n",
       "      <td>2373.02</td>\n",
       "      <td>0.0</td>\n",
       "      <td>2.0</td>\n",
       "      <td>0.0</td>\n",
       "      <td>2118.85</td>\n",
       "      <td>4.50</td>\n",
       "      <td>39.33</td>\n",
       "      <td>10.00</td>\n",
       "      <td>378.15</td>\n",
       "    </tr>\n",
       "    <tr>\n",
       "      <th>9</th>\n",
       "      <td>61.13</td>\n",
       "      <td>111.93</td>\n",
       "      <td>4613.21</td>\n",
       "      <td>0.0</td>\n",
       "      <td>294.4</td>\n",
       "      <td>0.0</td>\n",
       "      <td>158.10</td>\n",
       "      <td>23.82</td>\n",
       "      <td>35.96</td>\n",
       "      <td>0.00</td>\n",
       "      <td>1875.60</td>\n",
       "    </tr>\n",
       "    <tr>\n",
       "      <th>10</th>\n",
       "      <td>0.00</td>\n",
       "      <td>272.60</td>\n",
       "      <td>736.61</td>\n",
       "      <td>1.3</td>\n",
       "      <td>0.0</td>\n",
       "      <td>0.0</td>\n",
       "      <td>476.40</td>\n",
       "      <td>65.36</td>\n",
       "      <td>139.10</td>\n",
       "      <td>242.80</td>\n",
       "      <td>920.54</td>\n",
       "    </tr>\n",
       "  </tbody>\n",
       "</table>\n",
       "</div>"
      ],
      "text/plain": [
       "kind        其他     图书馆       开水   教务处   文印中心  校医院       校车    洗衣房      淋浴  \\\n",
       "user_id                                                                     \n",
       "0         0.00   84.40   399.65   0.0    0.3  0.0   399.20   0.00   12.00   \n",
       "1         0.00  270.60   262.79  29.3   96.4  0.0   116.40  20.58   21.50   \n",
       "8         0.00  403.30  2373.02   0.0    2.0  0.0  2118.85   4.50   39.33   \n",
       "9        61.13  111.93  4613.21   0.0  294.4  0.0   158.10  23.82   35.96   \n",
       "10        0.00  272.60   736.61   1.3    0.0  0.0   476.40  65.36  139.10   \n",
       "\n",
       "kind         超市       食堂  \n",
       "user_id                   \n",
       "0        796.78   630.81  \n",
       "1        506.60  1507.80  \n",
       "8         10.00   378.15  \n",
       "9          0.00  1875.60  \n",
       "10       242.80   920.54  "
      ]
     },
     "execution_count": 6,
     "metadata": {},
     "output_type": "execute_result"
    }
   ],
   "source": [
    "card_group=card_group.unstack('kind')# 调换行列\n",
    "card_group.fillna(0,inplace=True)    #用0来填补缺失值\n",
    "card_group.head()\n",
    "#正常"
   ]
  },
  {
   "cell_type": "code",
   "execution_count": 7,
   "metadata": {
    "scrolled": false
   },
   "outputs": [
    {
     "data": {
      "text/html": [
       "<div>\n",
       "<style scoped>\n",
       "    .dataframe tbody tr th:only-of-type {\n",
       "        vertical-align: middle;\n",
       "    }\n",
       "\n",
       "    .dataframe tbody tr th {\n",
       "        vertical-align: top;\n",
       "    }\n",
       "\n",
       "    .dataframe thead th {\n",
       "        text-align: right;\n",
       "    }\n",
       "</style>\n",
       "<table border=\"1\" class=\"dataframe\">\n",
       "  <thead>\n",
       "    <tr style=\"text-align: right;\">\n",
       "      <th>kind</th>\n",
       "      <th>其他</th>\n",
       "      <th>图书馆</th>\n",
       "      <th>开水</th>\n",
       "      <th>教务处</th>\n",
       "      <th>文印中心</th>\n",
       "      <th>校医院</th>\n",
       "      <th>校车</th>\n",
       "      <th>洗衣房</th>\n",
       "      <th>淋浴</th>\n",
       "      <th>超市</th>\n",
       "      <th>食堂</th>\n",
       "      <th>合计</th>\n",
       "    </tr>\n",
       "    <tr>\n",
       "      <th>user_id</th>\n",
       "      <th></th>\n",
       "      <th></th>\n",
       "      <th></th>\n",
       "      <th></th>\n",
       "      <th></th>\n",
       "      <th></th>\n",
       "      <th></th>\n",
       "      <th></th>\n",
       "      <th></th>\n",
       "      <th></th>\n",
       "      <th></th>\n",
       "      <th></th>\n",
       "    </tr>\n",
       "  </thead>\n",
       "  <tbody>\n",
       "    <tr>\n",
       "      <th>0</th>\n",
       "      <td>0.00</td>\n",
       "      <td>84.40</td>\n",
       "      <td>399.65</td>\n",
       "      <td>0.0</td>\n",
       "      <td>0.3</td>\n",
       "      <td>0.0</td>\n",
       "      <td>399.20</td>\n",
       "      <td>0.00</td>\n",
       "      <td>12.00</td>\n",
       "      <td>796.78</td>\n",
       "      <td>630.81</td>\n",
       "      <td>2323.14</td>\n",
       "    </tr>\n",
       "    <tr>\n",
       "      <th>1</th>\n",
       "      <td>0.00</td>\n",
       "      <td>270.60</td>\n",
       "      <td>262.79</td>\n",
       "      <td>29.3</td>\n",
       "      <td>96.4</td>\n",
       "      <td>0.0</td>\n",
       "      <td>116.40</td>\n",
       "      <td>20.58</td>\n",
       "      <td>21.50</td>\n",
       "      <td>506.60</td>\n",
       "      <td>1507.80</td>\n",
       "      <td>2831.97</td>\n",
       "    </tr>\n",
       "    <tr>\n",
       "      <th>8</th>\n",
       "      <td>0.00</td>\n",
       "      <td>403.30</td>\n",
       "      <td>2373.02</td>\n",
       "      <td>0.0</td>\n",
       "      <td>2.0</td>\n",
       "      <td>0.0</td>\n",
       "      <td>2118.85</td>\n",
       "      <td>4.50</td>\n",
       "      <td>39.33</td>\n",
       "      <td>10.00</td>\n",
       "      <td>378.15</td>\n",
       "      <td>5329.15</td>\n",
       "    </tr>\n",
       "    <tr>\n",
       "      <th>9</th>\n",
       "      <td>61.13</td>\n",
       "      <td>111.93</td>\n",
       "      <td>4613.21</td>\n",
       "      <td>0.0</td>\n",
       "      <td>294.4</td>\n",
       "      <td>0.0</td>\n",
       "      <td>158.10</td>\n",
       "      <td>23.82</td>\n",
       "      <td>35.96</td>\n",
       "      <td>0.00</td>\n",
       "      <td>1875.60</td>\n",
       "      <td>7174.15</td>\n",
       "    </tr>\n",
       "    <tr>\n",
       "      <th>10</th>\n",
       "      <td>0.00</td>\n",
       "      <td>272.60</td>\n",
       "      <td>736.61</td>\n",
       "      <td>1.3</td>\n",
       "      <td>0.0</td>\n",
       "      <td>0.0</td>\n",
       "      <td>476.40</td>\n",
       "      <td>65.36</td>\n",
       "      <td>139.10</td>\n",
       "      <td>242.80</td>\n",
       "      <td>920.54</td>\n",
       "      <td>2854.71</td>\n",
       "    </tr>\n",
       "  </tbody>\n",
       "</table>\n",
       "</div>"
      ],
      "text/plain": [
       "kind        其他     图书馆       开水   教务处   文印中心  校医院       校车    洗衣房      淋浴  \\\n",
       "user_id                                                                     \n",
       "0         0.00   84.40   399.65   0.0    0.3  0.0   399.20   0.00   12.00   \n",
       "1         0.00  270.60   262.79  29.3   96.4  0.0   116.40  20.58   21.50   \n",
       "8         0.00  403.30  2373.02   0.0    2.0  0.0  2118.85   4.50   39.33   \n",
       "9        61.13  111.93  4613.21   0.0  294.4  0.0   158.10  23.82   35.96   \n",
       "10        0.00  272.60   736.61   1.3    0.0  0.0   476.40  65.36  139.10   \n",
       "\n",
       "kind         超市       食堂       合计  \n",
       "user_id                            \n",
       "0        796.78   630.81  2323.14  \n",
       "1        506.60  1507.80  2831.97  \n",
       "8         10.00   378.15  5329.15  \n",
       "9          0.00  1875.60  7174.15  \n",
       "10       242.80   920.54  2854.71  "
      ]
     },
     "execution_count": 7,
     "metadata": {},
     "output_type": "execute_result"
    }
   ],
   "source": [
    "card_group['合计']=card_group.sum(axis=1)  # 注意反复运行导致合计累计叠加   ？？\n",
    "card_group.head()"
   ]
  },
  {
   "cell_type": "code",
   "execution_count": 8,
   "metadata": {
    "scrolled": true
   },
   "outputs": [
    {
     "data": {
      "text/html": [
       "<div>\n",
       "<style scoped>\n",
       "    .dataframe tbody tr th:only-of-type {\n",
       "        vertical-align: middle;\n",
       "    }\n",
       "\n",
       "    .dataframe tbody tr th {\n",
       "        vertical-align: top;\n",
       "    }\n",
       "\n",
       "    .dataframe thead th {\n",
       "        text-align: right;\n",
       "    }\n",
       "</style>\n",
       "<table border=\"1\" class=\"dataframe\">\n",
       "  <thead>\n",
       "    <tr style=\"text-align: right;\">\n",
       "      <th>kind</th>\n",
       "      <th>其他</th>\n",
       "      <th>图书馆</th>\n",
       "      <th>开水</th>\n",
       "      <th>教务处</th>\n",
       "      <th>文印中心</th>\n",
       "      <th>校医院</th>\n",
       "      <th>校车</th>\n",
       "      <th>洗衣房</th>\n",
       "      <th>淋浴</th>\n",
       "      <th>超市</th>\n",
       "      <th>食堂</th>\n",
       "      <th>合计</th>\n",
       "      <th>恩格尔系数</th>\n",
       "    </tr>\n",
       "    <tr>\n",
       "      <th>user_id</th>\n",
       "      <th></th>\n",
       "      <th></th>\n",
       "      <th></th>\n",
       "      <th></th>\n",
       "      <th></th>\n",
       "      <th></th>\n",
       "      <th></th>\n",
       "      <th></th>\n",
       "      <th></th>\n",
       "      <th></th>\n",
       "      <th></th>\n",
       "      <th></th>\n",
       "      <th></th>\n",
       "    </tr>\n",
       "  </thead>\n",
       "  <tbody>\n",
       "    <tr>\n",
       "      <th>0</th>\n",
       "      <td>0.00</td>\n",
       "      <td>84.40</td>\n",
       "      <td>399.65</td>\n",
       "      <td>0.0</td>\n",
       "      <td>0.3</td>\n",
       "      <td>0.0</td>\n",
       "      <td>399.20</td>\n",
       "      <td>0.00</td>\n",
       "      <td>12.00</td>\n",
       "      <td>796.78</td>\n",
       "      <td>630.81</td>\n",
       "      <td>2323.14</td>\n",
       "      <td>0.271533</td>\n",
       "    </tr>\n",
       "    <tr>\n",
       "      <th>1</th>\n",
       "      <td>0.00</td>\n",
       "      <td>270.60</td>\n",
       "      <td>262.79</td>\n",
       "      <td>29.3</td>\n",
       "      <td>96.4</td>\n",
       "      <td>0.0</td>\n",
       "      <td>116.40</td>\n",
       "      <td>20.58</td>\n",
       "      <td>21.50</td>\n",
       "      <td>506.60</td>\n",
       "      <td>1507.80</td>\n",
       "      <td>2831.97</td>\n",
       "      <td>0.532421</td>\n",
       "    </tr>\n",
       "    <tr>\n",
       "      <th>8</th>\n",
       "      <td>0.00</td>\n",
       "      <td>403.30</td>\n",
       "      <td>2373.02</td>\n",
       "      <td>0.0</td>\n",
       "      <td>2.0</td>\n",
       "      <td>0.0</td>\n",
       "      <td>2118.85</td>\n",
       "      <td>4.50</td>\n",
       "      <td>39.33</td>\n",
       "      <td>10.00</td>\n",
       "      <td>378.15</td>\n",
       "      <td>5329.15</td>\n",
       "      <td>0.070959</td>\n",
       "    </tr>\n",
       "    <tr>\n",
       "      <th>9</th>\n",
       "      <td>61.13</td>\n",
       "      <td>111.93</td>\n",
       "      <td>4613.21</td>\n",
       "      <td>0.0</td>\n",
       "      <td>294.4</td>\n",
       "      <td>0.0</td>\n",
       "      <td>158.10</td>\n",
       "      <td>23.82</td>\n",
       "      <td>35.96</td>\n",
       "      <td>0.00</td>\n",
       "      <td>1875.60</td>\n",
       "      <td>7174.15</td>\n",
       "      <td>0.261439</td>\n",
       "    </tr>\n",
       "    <tr>\n",
       "      <th>10</th>\n",
       "      <td>0.00</td>\n",
       "      <td>272.60</td>\n",
       "      <td>736.61</td>\n",
       "      <td>1.3</td>\n",
       "      <td>0.0</td>\n",
       "      <td>0.0</td>\n",
       "      <td>476.40</td>\n",
       "      <td>65.36</td>\n",
       "      <td>139.10</td>\n",
       "      <td>242.80</td>\n",
       "      <td>920.54</td>\n",
       "      <td>2854.71</td>\n",
       "      <td>0.322464</td>\n",
       "    </tr>\n",
       "  </tbody>\n",
       "</table>\n",
       "</div>"
      ],
      "text/plain": [
       "kind        其他     图书馆       开水   教务处   文印中心  校医院       校车    洗衣房      淋浴  \\\n",
       "user_id                                                                     \n",
       "0         0.00   84.40   399.65   0.0    0.3  0.0   399.20   0.00   12.00   \n",
       "1         0.00  270.60   262.79  29.3   96.4  0.0   116.40  20.58   21.50   \n",
       "8         0.00  403.30  2373.02   0.0    2.0  0.0  2118.85   4.50   39.33   \n",
       "9        61.13  111.93  4613.21   0.0  294.4  0.0   158.10  23.82   35.96   \n",
       "10        0.00  272.60   736.61   1.3    0.0  0.0   476.40  65.36  139.10   \n",
       "\n",
       "kind         超市       食堂       合计     恩格尔系数  \n",
       "user_id                                      \n",
       "0        796.78   630.81  2323.14  0.271533  \n",
       "1        506.60  1507.80  2831.97  0.532421  \n",
       "8         10.00   378.15  5329.15  0.070959  \n",
       "9          0.00  1875.60  7174.15  0.261439  \n",
       "10       242.80   920.54  2854.71  0.322464  "
      ]
     },
     "execution_count": 8,
     "metadata": {},
     "output_type": "execute_result"
    }
   ],
   "source": [
    "#计算恩格尔系数\n",
    "card_group['恩格尔系数']=card_group['食堂']/card_group['合计']  \n",
    "card_group.head()"
   ]
  },
  {
   "cell_type": "code",
   "execution_count": 9,
   "metadata": {},
   "outputs": [
    {
     "data": {
      "text/plain": [
       "(10846, 13)"
      ]
     },
     "execution_count": 9,
     "metadata": {},
     "output_type": "execute_result"
    }
   ],
   "source": [
    "card_group.shape"
   ]
  },
  {
   "cell_type": "code",
   "execution_count": 10,
   "metadata": {},
   "outputs": [
    {
     "data": {
      "text/plain": [
       "count    10846.000000\n",
       "mean         0.450758\n",
       "std          0.186021\n",
       "min          0.000000\n",
       "25%          0.343901\n",
       "50%          0.478707\n",
       "75%          0.568171\n",
       "max          1.000000\n",
       "Name: 恩格尔系数, dtype: float64"
      ]
     },
     "execution_count": 10,
     "metadata": {},
     "output_type": "execute_result"
    }
   ],
   "source": [
    "#一些特征值\n",
    "#card_group['合计'].describe()\n",
    "card_group['恩格尔系数'].describe()"
   ]
  },
  {
   "cell_type": "code",
   "execution_count": 11,
   "metadata": {
    "scrolled": false
   },
   "outputs": [
    {
     "data": {
      "text/html": [
       "<div>\n",
       "<style scoped>\n",
       "    .dataframe tbody tr th:only-of-type {\n",
       "        vertical-align: middle;\n",
       "    }\n",
       "\n",
       "    .dataframe tbody tr th {\n",
       "        vertical-align: top;\n",
       "    }\n",
       "\n",
       "    .dataframe thead th {\n",
       "        text-align: right;\n",
       "    }\n",
       "</style>\n",
       "<table border=\"1\" class=\"dataframe\">\n",
       "  <thead>\n",
       "    <tr style=\"text-align: right;\">\n",
       "      <th>kind</th>\n",
       "      <th>食堂</th>\n",
       "      <th>合计</th>\n",
       "      <th>恩格尔系数</th>\n",
       "    </tr>\n",
       "    <tr>\n",
       "      <th>user_id</th>\n",
       "      <th></th>\n",
       "      <th></th>\n",
       "      <th></th>\n",
       "    </tr>\n",
       "  </thead>\n",
       "  <tbody>\n",
       "    <tr>\n",
       "      <th>0</th>\n",
       "      <td>630.81</td>\n",
       "      <td>2323.14</td>\n",
       "      <td>0.271533</td>\n",
       "    </tr>\n",
       "    <tr>\n",
       "      <th>1</th>\n",
       "      <td>1507.80</td>\n",
       "      <td>2831.97</td>\n",
       "      <td>0.532421</td>\n",
       "    </tr>\n",
       "    <tr>\n",
       "      <th>8</th>\n",
       "      <td>378.15</td>\n",
       "      <td>5329.15</td>\n",
       "      <td>0.070959</td>\n",
       "    </tr>\n",
       "    <tr>\n",
       "      <th>9</th>\n",
       "      <td>1875.60</td>\n",
       "      <td>7174.15</td>\n",
       "      <td>0.261439</td>\n",
       "    </tr>\n",
       "    <tr>\n",
       "      <th>10</th>\n",
       "      <td>920.54</td>\n",
       "      <td>2854.71</td>\n",
       "      <td>0.322464</td>\n",
       "    </tr>\n",
       "  </tbody>\n",
       "</table>\n",
       "</div>"
      ],
      "text/plain": [
       "kind          食堂       合计     恩格尔系数\n",
       "user_id                            \n",
       "0         630.81  2323.14  0.271533\n",
       "1        1507.80  2831.97  0.532421\n",
       "8         378.15  5329.15  0.070959\n",
       "9        1875.60  7174.15  0.261439\n",
       "10        920.54  2854.71  0.322464"
      ]
     },
     "execution_count": 11,
     "metadata": {},
     "output_type": "execute_result"
    }
   ],
   "source": [
    "card_group1=card_group[['食堂','合计','恩格尔系数']]\n",
    "card_group1.head()"
   ]
  },
  {
   "cell_type": "code",
   "execution_count": 16,
   "metadata": {},
   "outputs": [
    {
     "data": {
      "text/html": [
       "<div>\n",
       "<style scoped>\n",
       "    .dataframe tbody tr th:only-of-type {\n",
       "        vertical-align: middle;\n",
       "    }\n",
       "\n",
       "    .dataframe tbody tr th {\n",
       "        vertical-align: top;\n",
       "    }\n",
       "\n",
       "    .dataframe thead th {\n",
       "        text-align: right;\n",
       "    }\n",
       "</style>\n",
       "<table border=\"1\" class=\"dataframe\">\n",
       "  <thead>\n",
       "    <tr style=\"text-align: right;\">\n",
       "      <th></th>\n",
       "      <th>user_id</th>\n",
       "      <th>食堂</th>\n",
       "      <th>合计</th>\n",
       "      <th>恩格尔系数</th>\n",
       "      <th>date</th>\n",
       "    </tr>\n",
       "  </thead>\n",
       "  <tbody>\n",
       "    <tr>\n",
       "      <th>0</th>\n",
       "      <td>0</td>\n",
       "      <td>630.81</td>\n",
       "      <td>2323.14</td>\n",
       "      <td>0.271533</td>\n",
       "      <td>186</td>\n",
       "    </tr>\n",
       "    <tr>\n",
       "      <th>1</th>\n",
       "      <td>1</td>\n",
       "      <td>1507.80</td>\n",
       "      <td>2831.97</td>\n",
       "      <td>0.532421</td>\n",
       "      <td>140</td>\n",
       "    </tr>\n",
       "    <tr>\n",
       "      <th>2</th>\n",
       "      <td>8</td>\n",
       "      <td>378.15</td>\n",
       "      <td>5329.15</td>\n",
       "      <td>0.070959</td>\n",
       "      <td>281</td>\n",
       "    </tr>\n",
       "    <tr>\n",
       "      <th>3</th>\n",
       "      <td>9</td>\n",
       "      <td>1875.60</td>\n",
       "      <td>7174.15</td>\n",
       "      <td>0.261439</td>\n",
       "      <td>271</td>\n",
       "    </tr>\n",
       "    <tr>\n",
       "      <th>4</th>\n",
       "      <td>10</td>\n",
       "      <td>920.54</td>\n",
       "      <td>2854.71</td>\n",
       "      <td>0.322464</td>\n",
       "      <td>209</td>\n",
       "    </tr>\n",
       "  </tbody>\n",
       "</table>\n",
       "</div>"
      ],
      "text/plain": [
       "   user_id       食堂       合计     恩格尔系数  date\n",
       "0        0   630.81  2323.14  0.271533   186\n",
       "1        1  1507.80  2831.97  0.532421   140\n",
       "2        8   378.15  5329.15  0.070959   281\n",
       "3        9  1875.60  7174.15  0.261439   271\n",
       "4       10   920.54  2854.71  0.322464   209"
      ]
     },
     "execution_count": 16,
     "metadata": {},
     "output_type": "execute_result"
    }
   ],
   "source": [
    "#合并表格\n",
    "card_group2=pd.merge(card_group1,card_time_group,how='inner',on='user_id')\n",
    "card_group2.head()"
   ]
  },
  {
   "cell_type": "code",
   "execution_count": 17,
   "metadata": {},
   "outputs": [],
   "source": [
    "card_group.to_csv('card_train.csv',encoding='gbk')   #保存恩格尔系数"
   ]
  },
  {
   "cell_type": "code",
   "execution_count": 18,
   "metadata": {
    "scrolled": true
   },
   "outputs": [
    {
     "data": {
      "text/html": [
       "<div>\n",
       "<style scoped>\n",
       "    .dataframe tbody tr th:only-of-type {\n",
       "        vertical-align: middle;\n",
       "    }\n",
       "\n",
       "    .dataframe tbody tr th {\n",
       "        vertical-align: top;\n",
       "    }\n",
       "\n",
       "    .dataframe thead th {\n",
       "        text-align: right;\n",
       "    }\n",
       "</style>\n",
       "<table border=\"1\" class=\"dataframe\">\n",
       "  <thead>\n",
       "    <tr style=\"text-align: right;\">\n",
       "      <th></th>\n",
       "      <th>user_id</th>\n",
       "      <th>食堂</th>\n",
       "      <th>合计</th>\n",
       "      <th>恩格尔系数</th>\n",
       "      <th>date</th>\n",
       "      <th>daliy_consumption</th>\n",
       "    </tr>\n",
       "  </thead>\n",
       "  <tbody>\n",
       "    <tr>\n",
       "      <th>0</th>\n",
       "      <td>0</td>\n",
       "      <td>630.81</td>\n",
       "      <td>2323.14</td>\n",
       "      <td>0.2715</td>\n",
       "      <td>186</td>\n",
       "      <td>12.49</td>\n",
       "    </tr>\n",
       "    <tr>\n",
       "      <th>1</th>\n",
       "      <td>1</td>\n",
       "      <td>1507.80</td>\n",
       "      <td>2831.97</td>\n",
       "      <td>0.5324</td>\n",
       "      <td>140</td>\n",
       "      <td>20.23</td>\n",
       "    </tr>\n",
       "    <tr>\n",
       "      <th>2</th>\n",
       "      <td>8</td>\n",
       "      <td>378.15</td>\n",
       "      <td>5329.15</td>\n",
       "      <td>0.0710</td>\n",
       "      <td>281</td>\n",
       "      <td>18.96</td>\n",
       "    </tr>\n",
       "    <tr>\n",
       "      <th>3</th>\n",
       "      <td>9</td>\n",
       "      <td>1875.60</td>\n",
       "      <td>7174.15</td>\n",
       "      <td>0.2614</td>\n",
       "      <td>271</td>\n",
       "      <td>26.47</td>\n",
       "    </tr>\n",
       "    <tr>\n",
       "      <th>4</th>\n",
       "      <td>10</td>\n",
       "      <td>920.54</td>\n",
       "      <td>2854.71</td>\n",
       "      <td>0.3225</td>\n",
       "      <td>209</td>\n",
       "      <td>13.66</td>\n",
       "    </tr>\n",
       "  </tbody>\n",
       "</table>\n",
       "</div>"
      ],
      "text/plain": [
       "   user_id       食堂       合计   恩格尔系数  date  daliy_consumption\n",
       "0        0   630.81  2323.14  0.2715   186              12.49\n",
       "1        1  1507.80  2831.97  0.5324   140              20.23\n",
       "2        8   378.15  5329.15  0.0710   281              18.96\n",
       "3        9  1875.60  7174.15  0.2614   271              26.47\n",
       "4       10   920.54  2854.71  0.3225   209              13.66"
      ]
     },
     "execution_count": 18,
     "metadata": {},
     "output_type": "execute_result"
    }
   ],
   "source": [
    "#card_group2[card_group2['date']>=100]\n",
    "card_group2['daliy_consumption']=card_group2['合计']/card_group2['date']\n",
    "card_group2=card_group2.round({'恩格尔系数':4,'daliy_consumption':2})\n",
    "card_group2=card_group2.sort_values(['user_id'])\n",
    "card_group2.head()"
   ]
  },
  {
   "cell_type": "code",
   "execution_count": 19,
   "metadata": {},
   "outputs": [
    {
     "data": {
      "text/plain": [
       "<matplotlib.axes._subplots.AxesSubplot at 0x1a65f34f278>"
      ]
     },
     "execution_count": 19,
     "metadata": {},
     "output_type": "execute_result"
    },
    {
     "data": {
      "image/png": "[encoded data removed]",
      "text/plain": [
       "<Figure size 432x288 with 1 Axes>"
      ]
     },
     "metadata": {
      "needs_background": "light"
     },
     "output_type": "display_data"
    }
   ],
   "source": [
    "#关于恩格尔系数的直方图\n",
    "card_group2['恩格尔系数'].hist(bins=500)"
   ]
  },
  {
   "cell_type": "code",
   "execution_count": 20,
   "metadata": {},
   "outputs": [
    {
     "data": {
      "text/html": [
       "<div>\n",
       "<style scoped>\n",
       "    .dataframe tbody tr th:only-of-type {\n",
       "        vertical-align: middle;\n",
       "    }\n",
       "\n",
       "    .dataframe tbody tr th {\n",
       "        vertical-align: top;\n",
       "    }\n",
       "\n",
       "    .dataframe thead th {\n",
       "        text-align: right;\n",
       "    }\n",
       "</style>\n",
       "<table border=\"1\" class=\"dataframe\">\n",
       "  <thead>\n",
       "    <tr style=\"text-align: right;\">\n",
       "      <th></th>\n",
       "      <th>user_id</th>\n",
       "      <th>subsidy</th>\n",
       "    </tr>\n",
       "  </thead>\n",
       "  <tbody>\n",
       "    <tr>\n",
       "      <th>0</th>\n",
       "      <td>0</td>\n",
       "      <td>0</td>\n",
       "    </tr>\n",
       "    <tr>\n",
       "      <th>1</th>\n",
       "      <td>1</td>\n",
       "      <td>0</td>\n",
       "    </tr>\n",
       "    <tr>\n",
       "      <th>2</th>\n",
       "      <td>8</td>\n",
       "      <td>0</td>\n",
       "    </tr>\n",
       "    <tr>\n",
       "      <th>3</th>\n",
       "      <td>9</td>\n",
       "      <td>0</td>\n",
       "    </tr>\n",
       "    <tr>\n",
       "      <th>4</th>\n",
       "      <td>10</td>\n",
       "      <td>0</td>\n",
       "    </tr>\n",
       "  </tbody>\n",
       "</table>\n",
       "</div>"
      ],
      "text/plain": [
       "   user_id  subsidy\n",
       "0        0        0\n",
       "1        1        0\n",
       "2        8        0\n",
       "3        9        0\n",
       "4       10        0"
      ]
     },
     "execution_count": 20,
     "metadata": {},
     "output_type": "execute_result"
    }
   ],
   "source": [
    "subsidy_data=pd.read_table(r'E:/BaiduNetdiskDownload/jzzz/train/subsidy_train.txt', sep = ',',\n",
    "                          names = ['user_id', 'subsidy'],\n",
    "                          encoding='utf-8',header=None)\n",
    "subsidy_data.head()"
   ]
  },
  {
   "cell_type": "code",
   "execution_count": 21,
   "metadata": {
    "scrolled": false
   },
   "outputs": [
    {
     "data": {
      "text/html": [
       "<div>\n",
       "<style scoped>\n",
       "    .dataframe tbody tr th:only-of-type {\n",
       "        vertical-align: middle;\n",
       "    }\n",
       "\n",
       "    .dataframe tbody tr th {\n",
       "        vertical-align: top;\n",
       "    }\n",
       "\n",
       "    .dataframe thead th {\n",
       "        text-align: right;\n",
       "    }\n",
       "</style>\n",
       "<table border=\"1\" class=\"dataframe\">\n",
       "  <thead>\n",
       "    <tr style=\"text-align: right;\">\n",
       "      <th></th>\n",
       "      <th>user_id</th>\n",
       "      <th>食堂</th>\n",
       "      <th>合计</th>\n",
       "      <th>恩格尔系数</th>\n",
       "      <th>date</th>\n",
       "      <th>daliy_consumption</th>\n",
       "      <th>subsidy</th>\n",
       "    </tr>\n",
       "  </thead>\n",
       "  <tbody>\n",
       "    <tr>\n",
       "      <th>0</th>\n",
       "      <td>0</td>\n",
       "      <td>630.81</td>\n",
       "      <td>2323.14</td>\n",
       "      <td>0.2715</td>\n",
       "      <td>186</td>\n",
       "      <td>12.49</td>\n",
       "      <td>0</td>\n",
       "    </tr>\n",
       "    <tr>\n",
       "      <th>1</th>\n",
       "      <td>1</td>\n",
       "      <td>1507.80</td>\n",
       "      <td>2831.97</td>\n",
       "      <td>0.5324</td>\n",
       "      <td>140</td>\n",
       "      <td>20.23</td>\n",
       "      <td>0</td>\n",
       "    </tr>\n",
       "    <tr>\n",
       "      <th>2</th>\n",
       "      <td>8</td>\n",
       "      <td>378.15</td>\n",
       "      <td>5329.15</td>\n",
       "      <td>0.0710</td>\n",
       "      <td>281</td>\n",
       "      <td>18.96</td>\n",
       "      <td>0</td>\n",
       "    </tr>\n",
       "    <tr>\n",
       "      <th>3</th>\n",
       "      <td>9</td>\n",
       "      <td>1875.60</td>\n",
       "      <td>7174.15</td>\n",
       "      <td>0.2614</td>\n",
       "      <td>271</td>\n",
       "      <td>26.47</td>\n",
       "      <td>0</td>\n",
       "    </tr>\n",
       "    <tr>\n",
       "      <th>4</th>\n",
       "      <td>10</td>\n",
       "      <td>920.54</td>\n",
       "      <td>2854.71</td>\n",
       "      <td>0.3225</td>\n",
       "      <td>209</td>\n",
       "      <td>13.66</td>\n",
       "      <td>0</td>\n",
       "    </tr>\n",
       "  </tbody>\n",
       "</table>\n",
       "</div>"
      ],
      "text/plain": [
       "   user_id       食堂       合计   恩格尔系数  date  daliy_consumption  subsidy\n",
       "0        0   630.81  2323.14  0.2715   186              12.49        0\n",
       "1        1  1507.80  2831.97  0.5324   140              20.23        0\n",
       "2        8   378.15  5329.15  0.0710   281              18.96        0\n",
       "3        9  1875.60  7174.15  0.2614   271              26.47        0\n",
       "4       10   920.54  2854.71  0.3225   209              13.66        0"
      ]
     },
     "execution_count": 21,
     "metadata": {},
     "output_type": "execute_result"
    }
   ],
   "source": [
    "consume_subsidy=pd.merge(card_group2,subsidy_data,how='inner',on='user_id') \n",
    "consume_subsidy.head()"
   ]
  },
  {
   "cell_type": "code",
   "execution_count": 22,
   "metadata": {
    "scrolled": true
   },
   "outputs": [
    {
     "data": {
      "text/html": [
       "<div>\n",
       "<style scoped>\n",
       "    .dataframe tbody tr th:only-of-type {\n",
       "        vertical-align: middle;\n",
       "    }\n",
       "\n",
       "    .dataframe tbody tr th {\n",
       "        vertical-align: top;\n",
       "    }\n",
       "\n",
       "    .dataframe thead th {\n",
       "        text-align: right;\n",
       "    }\n",
       "</style>\n",
       "<table border=\"1\" class=\"dataframe\">\n",
       "  <thead>\n",
       "    <tr style=\"text-align: right;\">\n",
       "      <th></th>\n",
       "      <th>user_id</th>\n",
       "      <th>食堂</th>\n",
       "      <th>合计</th>\n",
       "      <th>恩格尔系数</th>\n",
       "      <th>date</th>\n",
       "      <th>daliy_consumption</th>\n",
       "      <th>subsidy</th>\n",
       "    </tr>\n",
       "  </thead>\n",
       "  <tbody>\n",
       "    <tr>\n",
       "      <th>0</th>\n",
       "      <td>22</td>\n",
       "      <td>2959.47</td>\n",
       "      <td>4915.59</td>\n",
       "      <td>0.6021</td>\n",
       "      <td>283</td>\n",
       "      <td>17.37</td>\n",
       "      <td>1000</td>\n",
       "    </tr>\n",
       "    <tr>\n",
       "      <th>1</th>\n",
       "      <td>23</td>\n",
       "      <td>3215.75</td>\n",
       "      <td>5297.84</td>\n",
       "      <td>0.6070</td>\n",
       "      <td>267</td>\n",
       "      <td>19.84</td>\n",
       "      <td>1500</td>\n",
       "    </tr>\n",
       "    <tr>\n",
       "      <th>2</th>\n",
       "      <td>28</td>\n",
       "      <td>1196.39</td>\n",
       "      <td>3074.71</td>\n",
       "      <td>0.3891</td>\n",
       "      <td>251</td>\n",
       "      <td>12.25</td>\n",
       "      <td>1000</td>\n",
       "    </tr>\n",
       "    <tr>\n",
       "      <th>3</th>\n",
       "      <td>64</td>\n",
       "      <td>2538.25</td>\n",
       "      <td>4057.82</td>\n",
       "      <td>0.6255</td>\n",
       "      <td>263</td>\n",
       "      <td>15.43</td>\n",
       "      <td>1500</td>\n",
       "    </tr>\n",
       "    <tr>\n",
       "      <th>4</th>\n",
       "      <td>92</td>\n",
       "      <td>1705.14</td>\n",
       "      <td>2921.28</td>\n",
       "      <td>0.5837</td>\n",
       "      <td>249</td>\n",
       "      <td>11.73</td>\n",
       "      <td>1000</td>\n",
       "    </tr>\n",
       "  </tbody>\n",
       "</table>\n",
       "</div>"
      ],
      "text/plain": [
       "   user_id       食堂       合计   恩格尔系数  date  daliy_consumption  subsidy\n",
       "0       22  2959.47  4915.59  0.6021   283              17.37     1000\n",
       "1       23  3215.75  5297.84  0.6070   267              19.84     1500\n",
       "2       28  1196.39  3074.71  0.3891   251              12.25     1000\n",
       "3       64  2538.25  4057.82  0.6255   263              15.43     1500\n",
       "4       92  1705.14  2921.28  0.5837   249              11.73     1000"
      ]
     },
     "execution_count": 22,
     "metadata": {},
     "output_type": "execute_result"
    }
   ],
   "source": [
    "#consume_subsidy1是拿助学金的同学\n",
    "consume_subsidy1=consume_subsidy[consume_subsidy['subsidy']!=0].reindex().reset_index(drop=True) \n",
    "consume_subsidy1.head()\n",
    "#consume_subsidy1.shape"
   ]
  },
  {
   "cell_type": "code",
   "execution_count": 23,
   "metadata": {
    "scrolled": true
   },
   "outputs": [
    {
     "data": {
      "text/html": [
       "<div>\n",
       "<style scoped>\n",
       "    .dataframe tbody tr th:only-of-type {\n",
       "        vertical-align: middle;\n",
       "    }\n",
       "\n",
       "    .dataframe tbody tr th {\n",
       "        vertical-align: top;\n",
       "    }\n",
       "\n",
       "    .dataframe thead th {\n",
       "        text-align: right;\n",
       "    }\n",
       "</style>\n",
       "<table border=\"1\" class=\"dataframe\">\n",
       "  <thead>\n",
       "    <tr style=\"text-align: right;\">\n",
       "      <th></th>\n",
       "      <th>user_id</th>\n",
       "      <th>食堂</th>\n",
       "      <th>合计</th>\n",
       "      <th>恩格尔系数</th>\n",
       "      <th>date</th>\n",
       "      <th>daliy_consumption</th>\n",
       "      <th>subsidy</th>\n",
       "    </tr>\n",
       "  </thead>\n",
       "  <tbody>\n",
       "    <tr>\n",
       "      <th>0</th>\n",
       "      <td>0</td>\n",
       "      <td>630.81</td>\n",
       "      <td>2323.14</td>\n",
       "      <td>0.2715</td>\n",
       "      <td>186</td>\n",
       "      <td>12.49</td>\n",
       "      <td>0</td>\n",
       "    </tr>\n",
       "    <tr>\n",
       "      <th>1</th>\n",
       "      <td>1</td>\n",
       "      <td>1507.80</td>\n",
       "      <td>2831.97</td>\n",
       "      <td>0.5324</td>\n",
       "      <td>140</td>\n",
       "      <td>20.23</td>\n",
       "      <td>0</td>\n",
       "    </tr>\n",
       "    <tr>\n",
       "      <th>2</th>\n",
       "      <td>8</td>\n",
       "      <td>378.15</td>\n",
       "      <td>5329.15</td>\n",
       "      <td>0.0710</td>\n",
       "      <td>281</td>\n",
       "      <td>18.96</td>\n",
       "      <td>0</td>\n",
       "    </tr>\n",
       "    <tr>\n",
       "      <th>3</th>\n",
       "      <td>9</td>\n",
       "      <td>1875.60</td>\n",
       "      <td>7174.15</td>\n",
       "      <td>0.2614</td>\n",
       "      <td>271</td>\n",
       "      <td>26.47</td>\n",
       "      <td>0</td>\n",
       "    </tr>\n",
       "    <tr>\n",
       "      <th>4</th>\n",
       "      <td>10</td>\n",
       "      <td>920.54</td>\n",
       "      <td>2854.71</td>\n",
       "      <td>0.3225</td>\n",
       "      <td>209</td>\n",
       "      <td>13.66</td>\n",
       "      <td>0</td>\n",
       "    </tr>\n",
       "  </tbody>\n",
       "</table>\n",
       "</div>"
      ],
      "text/plain": [
       "   user_id       食堂       合计   恩格尔系数  date  daliy_consumption  subsidy\n",
       "0        0   630.81  2323.14  0.2715   186              12.49        0\n",
       "1        1  1507.80  2831.97  0.5324   140              20.23        0\n",
       "2        8   378.15  5329.15  0.0710   281              18.96        0\n",
       "3        9  1875.60  7174.15  0.2614   271              26.47        0\n",
       "4       10   920.54  2854.71  0.3225   209              13.66        0"
      ]
     },
     "execution_count": 23,
     "metadata": {},
     "output_type": "execute_result"
    }
   ],
   "source": [
    "#consume_subsidy1是不拿助学金的同学\n",
    "consume_subsidy2=consume_subsidy[consume_subsidy['subsidy']==0].reset_index(drop=True) \n",
    "consume_subsidy2.head()"
   ]
  },
  {
   "cell_type": "code",
   "execution_count": 24,
   "metadata": {
    "scrolled": true
   },
   "outputs": [
    {
     "data": {
      "text/plain": [
       "(9286, 7)"
      ]
     },
     "execution_count": 24,
     "metadata": {},
     "output_type": "execute_result"
    }
   ],
   "source": [
    "consume_subsidy2.shape"
   ]
  },
  {
   "cell_type": "code",
   "execution_count": 25,
   "metadata": {},
   "outputs": [
    {
     "data": {
      "text/plain": [
       "<matplotlib.axes._subplots.AxesSubplot at 0x1a65f4a7668>"
      ]
     },
     "execution_count": 25,
     "metadata": {},
     "output_type": "execute_result"
    },
    {
     "data": {
      "image/png": "[encoded data removed]",
      "text/plain": [
       "<Figure size 432x288 with 1 Axes>"
      ]
     },
     "metadata": {
      "needs_background": "light"
     },
     "output_type": "display_data"
    }
   ],
   "source": [
    "consume_subsidy['daliy_consumption'].hist(bins=500)"
   ]
  },
  {
   "cell_type": "code",
   "execution_count": 26,
   "metadata": {
    "scrolled": false
   },
   "outputs": [
    {
     "data": {
      "text/plain": [
       "<matplotlib.axes._subplots.AxesSubplot at 0x1a65f951d30>"
      ]
     },
     "execution_count": 26,
     "metadata": {},
     "output_type": "execute_result"
    },
    {
     "data": {
      "image/png": "[encoded data removed]",
      "text/plain": [
       "<Figure size 432x288 with 1 Axes>"
      ]
     },
     "metadata": {
      "needs_background": "light"
     },
     "output_type": "display_data"
    }
   ],
   "source": [
    "#开始画图对比\n",
    "consume_subsidy.boxplot(column='恩格尔系数',by='subsidy')\n",
    "#基本一致"
   ]
  },
  {
   "cell_type": "code",
   "execution_count": 27,
   "metadata": {},
   "outputs": [
    {
     "data": {
      "text/plain": [
       "<matplotlib.axes._subplots.AxesSubplot at 0x1a65fe62da0>"
      ]
     },
     "execution_count": 27,
     "metadata": {},
     "output_type": "execute_result"
    },
    {
     "data": {
      "image/png": "[encoded data removed]",
      "text/plain": [
       "<Figure size 432x288 with 1 Axes>"
      ]
     },
     "metadata": {
      "needs_background": "light"
     },
     "output_type": "display_data"
    }
   ],
   "source": [
    "consume_subsidy.boxplot(column='daliy_consumption',by='subsidy')"
   ]
  },
  {
   "cell_type": "code",
   "execution_count": 28,
   "metadata": {},
   "outputs": [
    {
     "data": {
      "text/plain": [
       "Text(0,0.5,'人数')"
      ]
     },
     "execution_count": 28,
     "metadata": {},
     "output_type": "execute_result"
    },
    {
     "data": {
      "image/png": "[encoded data removed]",
      "text/plain": [
       "<Figure size 800x800 with 2 Axes>"
      ]
     },
     "metadata": {
      "needs_background": "light"
     },
     "output_type": "display_data"
    }
   ],
   "source": [
    "fig = plt.figure(figsize=(8,8),dpi=100)\n",
    "ax1 =fig.add_subplot(2,1,1)\n",
    "ax1=consume_subsidy2['daliy_consumption'].hist(bins=500)\n",
    "plt.xlabel(u'日均消费金额')   \n",
    "plt.ylabel(u'人数')   \n",
    "ax2 =fig.add_subplot(2,1,2)\n",
    "ax2=consume_subsidy1['daliy_consumption'].hist(bins=500)\n",
    "plt.xlabel(u'日均消费金额')   \n",
    "plt.ylabel(u'人数')   "
   ]
  },
  {
   "cell_type": "code",
   "execution_count": 29,
   "metadata": {
    "scrolled": true
   },
   "outputs": [
    {
     "data": {
      "text/html": [
       "<div>\n",
       "<style scoped>\n",
       "    .dataframe tbody tr th:only-of-type {\n",
       "        vertical-align: middle;\n",
       "    }\n",
       "\n",
       "    .dataframe tbody tr th {\n",
       "        vertical-align: top;\n",
       "    }\n",
       "\n",
       "    .dataframe thead th {\n",
       "        text-align: right;\n",
       "    }\n",
       "</style>\n",
       "<table border=\"1\" class=\"dataframe\">\n",
       "  <thead>\n",
       "    <tr style=\"text-align: right;\">\n",
       "      <th></th>\n",
       "      <th>user_id</th>\n",
       "      <th>食堂</th>\n",
       "      <th>合计</th>\n",
       "      <th>恩格尔系数</th>\n",
       "      <th>date</th>\n",
       "      <th>daliy_consumption</th>\n",
       "      <th>subsidy</th>\n",
       "    </tr>\n",
       "  </thead>\n",
       "  <tbody>\n",
       "    <tr>\n",
       "      <th>112</th>\n",
       "      <td>1417</td>\n",
       "      <td>3029.18</td>\n",
       "      <td>8370.18</td>\n",
       "      <td>0.3619</td>\n",
       "      <td>290</td>\n",
       "      <td>28.86</td>\n",
       "      <td>1500</td>\n",
       "    </tr>\n",
       "    <tr>\n",
       "      <th>1317</th>\n",
       "      <td>16493</td>\n",
       "      <td>4393.55</td>\n",
       "      <td>8380.47</td>\n",
       "      <td>0.5243</td>\n",
       "      <td>292</td>\n",
       "      <td>28.70</td>\n",
       "      <td>1500</td>\n",
       "    </tr>\n",
       "    <tr>\n",
       "      <th>111</th>\n",
       "      <td>1416</td>\n",
       "      <td>2566.61</td>\n",
       "      <td>7940.39</td>\n",
       "      <td>0.3232</td>\n",
       "      <td>277</td>\n",
       "      <td>28.67</td>\n",
       "      <td>1000</td>\n",
       "    </tr>\n",
       "    <tr>\n",
       "      <th>1060</th>\n",
       "      <td>11142</td>\n",
       "      <td>455.95</td>\n",
       "      <td>7357.71</td>\n",
       "      <td>0.0620</td>\n",
       "      <td>259</td>\n",
       "      <td>28.41</td>\n",
       "      <td>1000</td>\n",
       "    </tr>\n",
       "    <tr>\n",
       "      <th>1061</th>\n",
       "      <td>11143</td>\n",
       "      <td>453.80</td>\n",
       "      <td>4912.97</td>\n",
       "      <td>0.0924</td>\n",
       "      <td>175</td>\n",
       "      <td>28.07</td>\n",
       "      <td>1500</td>\n",
       "    </tr>\n",
       "    <tr>\n",
       "      <th>1299</th>\n",
       "      <td>16083</td>\n",
       "      <td>3492.85</td>\n",
       "      <td>9065.58</td>\n",
       "      <td>0.3853</td>\n",
       "      <td>329</td>\n",
       "      <td>27.55</td>\n",
       "      <td>1000</td>\n",
       "    </tr>\n",
       "    <tr>\n",
       "      <th>1197</th>\n",
       "      <td>14177</td>\n",
       "      <td>2513.03</td>\n",
       "      <td>7676.47</td>\n",
       "      <td>0.3274</td>\n",
       "      <td>281</td>\n",
       "      <td>27.32</td>\n",
       "      <td>2000</td>\n",
       "    </tr>\n",
       "    <tr>\n",
       "      <th>34</th>\n",
       "      <td>529</td>\n",
       "      <td>3149.80</td>\n",
       "      <td>7520.99</td>\n",
       "      <td>0.4188</td>\n",
       "      <td>279</td>\n",
       "      <td>26.96</td>\n",
       "      <td>1000</td>\n",
       "    </tr>\n",
       "    <tr>\n",
       "      <th>192</th>\n",
       "      <td>2245</td>\n",
       "      <td>4114.25</td>\n",
       "      <td>8441.61</td>\n",
       "      <td>0.4874</td>\n",
       "      <td>317</td>\n",
       "      <td>26.63</td>\n",
       "      <td>1000</td>\n",
       "    </tr>\n",
       "    <tr>\n",
       "      <th>20</th>\n",
       "      <td>399</td>\n",
       "      <td>1198.30</td>\n",
       "      <td>8729.70</td>\n",
       "      <td>0.1373</td>\n",
       "      <td>334</td>\n",
       "      <td>26.14</td>\n",
       "      <td>1000</td>\n",
       "    </tr>\n",
       "  </tbody>\n",
       "</table>\n",
       "</div>"
      ],
      "text/plain": [
       "      user_id       食堂       合计   恩格尔系数  date  daliy_consumption  subsidy\n",
       "112      1417  3029.18  8370.18  0.3619   290              28.86     1500\n",
       "1317    16493  4393.55  8380.47  0.5243   292              28.70     1500\n",
       "111      1416  2566.61  7940.39  0.3232   277              28.67     1000\n",
       "1060    11142   455.95  7357.71  0.0620   259              28.41     1000\n",
       "1061    11143   453.80  4912.97  0.0924   175              28.07     1500\n",
       "1299    16083  3492.85  9065.58  0.3853   329              27.55     1000\n",
       "1197    14177  2513.03  7676.47  0.3274   281              27.32     2000\n",
       "34        529  3149.80  7520.99  0.4188   279              26.96     1000\n",
       "192      2245  4114.25  8441.61  0.4874   317              26.63     1000\n",
       "20        399  1198.30  8729.70  0.1373   334              26.14     1000"
      ]
     },
     "execution_count": 29,
     "metadata": {},
     "output_type": "execute_result"
    }
   ],
   "source": [
    "#虚假贫困认定???\n",
    "consume_subsidy1.sort_values('daliy_consumption',ascending=False)[:10]"
   ]
  },
  {
   "cell_type": "code",
   "execution_count": 30,
   "metadata": {
    "scrolled": true
   },
   "outputs": [
    {
     "data": {
      "text/html": [
       "<div>\n",
       "<style scoped>\n",
       "    .dataframe tbody tr th:only-of-type {\n",
       "        vertical-align: middle;\n",
       "    }\n",
       "\n",
       "    .dataframe tbody tr th {\n",
       "        vertical-align: top;\n",
       "    }\n",
       "\n",
       "    .dataframe thead th {\n",
       "        text-align: right;\n",
       "    }\n",
       "</style>\n",
       "<table border=\"1\" class=\"dataframe\">\n",
       "  <thead>\n",
       "    <tr style=\"text-align: right;\">\n",
       "      <th></th>\n",
       "      <th>user_id</th>\n",
       "      <th>食堂</th>\n",
       "      <th>合计</th>\n",
       "      <th>恩格尔系数</th>\n",
       "      <th>date</th>\n",
       "      <th>daliy_consumption</th>\n",
       "      <th>subsidy</th>\n",
       "    </tr>\n",
       "  </thead>\n",
       "  <tbody>\n",
       "    <tr>\n",
       "      <th>3257</th>\n",
       "      <td>13469</td>\n",
       "      <td>18.40</td>\n",
       "      <td>107.91</td>\n",
       "      <td>0.1705</td>\n",
       "      <td>59</td>\n",
       "      <td>1.83</td>\n",
       "      <td>0</td>\n",
       "    </tr>\n",
       "    <tr>\n",
       "      <th>8323</th>\n",
       "      <td>29793</td>\n",
       "      <td>25.10</td>\n",
       "      <td>167.07</td>\n",
       "      <td>0.1502</td>\n",
       "      <td>67</td>\n",
       "      <td>2.49</td>\n",
       "      <td>0</td>\n",
       "    </tr>\n",
       "    <tr>\n",
       "      <th>2108</th>\n",
       "      <td>9169</td>\n",
       "      <td>66.53</td>\n",
       "      <td>246.50</td>\n",
       "      <td>0.2699</td>\n",
       "      <td>90</td>\n",
       "      <td>2.74</td>\n",
       "      <td>0</td>\n",
       "    </tr>\n",
       "    <tr>\n",
       "      <th>2395</th>\n",
       "      <td>10355</td>\n",
       "      <td>0.00</td>\n",
       "      <td>351.21</td>\n",
       "      <td>0.0000</td>\n",
       "      <td>109</td>\n",
       "      <td>3.22</td>\n",
       "      <td>0</td>\n",
       "    </tr>\n",
       "    <tr>\n",
       "      <th>1341</th>\n",
       "      <td>5791</td>\n",
       "      <td>61.20</td>\n",
       "      <td>418.70</td>\n",
       "      <td>0.1462</td>\n",
       "      <td>125</td>\n",
       "      <td>3.35</td>\n",
       "      <td>0</td>\n",
       "    </tr>\n",
       "  </tbody>\n",
       "</table>\n",
       "</div>"
      ],
      "text/plain": [
       "      user_id     食堂      合计   恩格尔系数  date  daliy_consumption  subsidy\n",
       "3257    13469  18.40  107.91  0.1705    59               1.83        0\n",
       "8323    29793  25.10  167.07  0.1502    67               2.49        0\n",
       "2108     9169  66.53  246.50  0.2699    90               2.74        0\n",
       "2395    10355   0.00  351.21  0.0000   109               3.22        0\n",
       "1341     5791  61.20  418.70  0.1462   125               3.35        0"
      ]
     },
     "execution_count": 30,
     "metadata": {},
     "output_type": "execute_result"
    }
   ],
   "source": [
    "#隐性贫困认定\n",
    "consume_subsidy3=consume_subsidy2.sort_values('daliy_consumption')\n",
    "#天数太少不具备有效性,天数越多越具有可靠性\n",
    "consume_subsidy3=consume_subsidy3[consume_subsidy3['date']>=50][:50]\n",
    "#consume_subsidy3=consume_subsidy3.sort_values('date',ascending=False)\n",
    "consume_subsidy3.head()"
   ]
  },
  {
   "cell_type": "code",
   "execution_count": 31,
   "metadata": {},
   "outputs": [],
   "source": [
    "#把消费水平和成绩联系起来"
   ]
  },
  {
   "cell_type": "code",
   "execution_count": 32,
   "metadata": {
    "scrolled": true
   },
   "outputs": [
    {
     "data": {
      "text/html": [
       "<div>\n",
       "<style scoped>\n",
       "    .dataframe tbody tr th:only-of-type {\n",
       "        vertical-align: middle;\n",
       "    }\n",
       "\n",
       "    .dataframe tbody tr th {\n",
       "        vertical-align: top;\n",
       "    }\n",
       "\n",
       "    .dataframe thead th {\n",
       "        text-align: right;\n",
       "    }\n",
       "</style>\n",
       "<table border=\"1\" class=\"dataframe\">\n",
       "  <thead>\n",
       "    <tr style=\"text-align: right;\">\n",
       "      <th></th>\n",
       "      <th>user_id</th>\n",
       "      <th>department</th>\n",
       "      <th>ranking</th>\n",
       "    </tr>\n",
       "  </thead>\n",
       "  <tbody>\n",
       "    <tr>\n",
       "      <th>0</th>\n",
       "      <td>0</td>\n",
       "      <td>9</td>\n",
       "      <td>1</td>\n",
       "    </tr>\n",
       "    <tr>\n",
       "      <th>1</th>\n",
       "      <td>1</td>\n",
       "      <td>9</td>\n",
       "      <td>2</td>\n",
       "    </tr>\n",
       "    <tr>\n",
       "      <th>2</th>\n",
       "      <td>8</td>\n",
       "      <td>6</td>\n",
       "      <td>1565</td>\n",
       "    </tr>\n",
       "    <tr>\n",
       "      <th>3</th>\n",
       "      <td>9</td>\n",
       "      <td>6</td>\n",
       "      <td>1570</td>\n",
       "    </tr>\n",
       "    <tr>\n",
       "      <th>4</th>\n",
       "      <td>10</td>\n",
       "      <td>3</td>\n",
       "      <td>1</td>\n",
       "    </tr>\n",
       "  </tbody>\n",
       "</table>\n",
       "</div>"
      ],
      "text/plain": [
       "   user_id  department  ranking\n",
       "0        0           9        1\n",
       "1        1           9        2\n",
       "2        8           6     1565\n",
       "3        9           6     1570\n",
       "4       10           3        1"
      ]
     },
     "execution_count": 32,
     "metadata": {},
     "output_type": "execute_result"
    }
   ],
   "source": [
    "score_data=pd.read_table(r'E:/BaiduNetdiskDownload/jzzz/train/score_train.txt', sep = ',', quotechar =',',\n",
    "                          names = ['user_id','department','ranking',],\n",
    "                          encoding='utf-8',header=None)\n",
    "score_data.head()"
   ]
  },
  {
   "cell_type": "code",
   "execution_count": 33,
   "metadata": {
    "scrolled": true
   },
   "outputs": [
    {
     "name": "stdout",
     "output_type": "stream",
     "text": [
      "[ 9  6  3  7  8  5  4  1 19 11 13 16 10 17 15 14  2 18 12]\n"
     ]
    }
   ],
   "source": [
    "print(score_data.department.unique())"
   ]
  },
  {
   "cell_type": "code",
   "execution_count": 34,
   "metadata": {},
   "outputs": [
    {
     "data": {
      "text/plain": [
       "(9130, 3)"
      ]
     },
     "execution_count": 34,
     "metadata": {},
     "output_type": "execute_result"
    }
   ],
   "source": [
    "score_data.shape"
   ]
  },
  {
   "cell_type": "code",
   "execution_count": 35,
   "metadata": {},
   "outputs": [],
   "source": [
    "#按学院划分，并且计算rank_rate"
   ]
  },
  {
   "cell_type": "code",
   "execution_count": 36,
   "metadata": {},
   "outputs": [
    {
     "data": {
      "text/html": [
       "<div>\n",
       "<style scoped>\n",
       "    .dataframe tbody tr th:only-of-type {\n",
       "        vertical-align: middle;\n",
       "    }\n",
       "\n",
       "    .dataframe tbody tr th {\n",
       "        vertical-align: top;\n",
       "    }\n",
       "\n",
       "    .dataframe thead th {\n",
       "        text-align: right;\n",
       "    }\n",
       "</style>\n",
       "<table border=\"1\" class=\"dataframe\">\n",
       "  <thead>\n",
       "    <tr style=\"text-align: right;\">\n",
       "      <th></th>\n",
       "      <th>user_id</th>\n",
       "      <th>department</th>\n",
       "      <th>ranking</th>\n",
       "      <th>ranking_rate</th>\n",
       "    </tr>\n",
       "  </thead>\n",
       "  <tbody>\n",
       "    <tr>\n",
       "      <th>89</th>\n",
       "      <td>254</td>\n",
       "      <td>1</td>\n",
       "      <td>283</td>\n",
       "      <td>0.769022</td>\n",
       "    </tr>\n",
       "    <tr>\n",
       "      <th>90</th>\n",
       "      <td>255</td>\n",
       "      <td>1</td>\n",
       "      <td>284</td>\n",
       "      <td>0.771739</td>\n",
       "    </tr>\n",
       "    <tr>\n",
       "      <th>91</th>\n",
       "      <td>258</td>\n",
       "      <td>1</td>\n",
       "      <td>285</td>\n",
       "      <td>0.774457</td>\n",
       "    </tr>\n",
       "    <tr>\n",
       "      <th>92</th>\n",
       "      <td>259</td>\n",
       "      <td>1</td>\n",
       "      <td>286</td>\n",
       "      <td>0.777174</td>\n",
       "    </tr>\n",
       "    <tr>\n",
       "      <th>93</th>\n",
       "      <td>266</td>\n",
       "      <td>1</td>\n",
       "      <td>291</td>\n",
       "      <td>0.790761</td>\n",
       "    </tr>\n",
       "  </tbody>\n",
       "</table>\n",
       "</div>"
      ],
      "text/plain": [
       "    user_id  department  ranking  ranking_rate\n",
       "89      254           1      283      0.769022\n",
       "90      255           1      284      0.771739\n",
       "91      258           1      285      0.774457\n",
       "92      259           1      286      0.777174\n",
       "93      266           1      291      0.790761"
      ]
     },
     "execution_count": 36,
     "metadata": {},
     "output_type": "execute_result"
    }
   ],
   "source": [
    "department1=score_data[score_data['department']==1]   \n",
    "import warnings    \n",
    "warnings.filterwarnings(\"ignore\") \n",
    "department1['ranking_rate']=department1['ranking']/department1.ranking.max()\n",
    "department1.head()"
   ]
  },
  {
   "cell_type": "code",
   "execution_count": 37,
   "metadata": {},
   "outputs": [],
   "source": [
    "#其余的学院数据,想写一个函数\n",
    "department2=score_data[score_data['department']==2]   \n",
    "department2['ranking_rate']=department2['ranking']/department2.ranking.max()\n",
    "###\n",
    "department3=score_data[score_data['department']==3]   \n",
    "department3['ranking_rate']=department3['ranking']/department3.ranking.max()\n",
    "###\n",
    "department4=score_data[score_data['department']==4]   \n",
    "department4['ranking_rate']=department4['ranking']/department4.ranking.max()\n",
    "###\n",
    "department5=score_data[score_data['department']==5]   \n",
    "department5['ranking_rate']=department5['ranking']/department5.ranking.max()\n",
    "###\n",
    "department6=score_data[score_data['department']==6]   \n",
    "department6['ranking_rate']=department6['ranking']/department6.ranking.max()\n",
    "###\n",
    "department7=score_data[score_data['department']==7]   \n",
    "department7['ranking_rate']=department7['ranking']/department7.ranking.max()\n",
    "###\n",
    "department8=score_data[score_data['department']==8]   \n",
    "department8['ranking_rate']=department8['ranking']/department8.ranking.max()\n",
    "###\n",
    "department9=score_data[score_data['department']==9]   \n",
    "department9['ranking_rate']=department9['ranking']/department9.ranking.max()\n",
    "###\n",
    "department10=score_data[score_data['department']==10]   \n",
    "department10['ranking_rate']=department10['ranking']/department10.ranking.max()\n",
    "###\n",
    "department11=score_data[score_data['department']==11]   \n",
    "department11['ranking_rate']=department11['ranking']/department11.ranking.max()\n",
    "###\n",
    "department12=score_data[score_data['department']==12]   \n",
    "department12['ranking_rate']=department12['ranking']/department12.ranking.max()\n",
    "###\n",
    "department13=score_data[score_data['department']==13]   \n",
    "department13['ranking_rate']=department13['ranking']/department13.ranking.max()\n",
    "###\n",
    "department14=score_data[score_data['department']==14]   \n",
    "department14['ranking_rate']=department14['ranking']/department14.ranking.max()\n",
    "###\n",
    "department15=score_data[score_data['department']==15]   \n",
    "department15['ranking_rate']=department15['ranking']/department15.ranking.max()\n",
    "###\n",
    "department16=score_data[score_data['department']==16]   \n",
    "department16['ranking_rate']=department16['ranking']/department16.ranking.max()\n",
    "###\n",
    "department17=score_data[score_data['department']==17]   \n",
    "department17['ranking_rate']=department17['ranking']/department17.ranking.max()\n",
    "###\n",
    "department18=score_data[score_data['department']==18]   \n",
    "department18['ranking_rate']=department18['ranking']/department18.ranking.max()\n",
    "###\n",
    "department19=score_data[score_data['department']==19]   \n",
    "department19['ranking_rate']=department19['ranking']/department19.ranking.max()"
   ]
  },
  {
   "cell_type": "code",
   "execution_count": 38,
   "metadata": {},
   "outputs": [
    {
     "data": {
      "text/html": [
       "<div>\n",
       "<style scoped>\n",
       "    .dataframe tbody tr th:only-of-type {\n",
       "        vertical-align: middle;\n",
       "    }\n",
       "\n",
       "    .dataframe tbody tr th {\n",
       "        vertical-align: top;\n",
       "    }\n",
       "\n",
       "    .dataframe thead th {\n",
       "        text-align: right;\n",
       "    }\n",
       "</style>\n",
       "<table border=\"1\" class=\"dataframe\">\n",
       "  <thead>\n",
       "    <tr style=\"text-align: right;\">\n",
       "      <th></th>\n",
       "      <th>user_id</th>\n",
       "      <th>department</th>\n",
       "      <th>ranking</th>\n",
       "      <th>ranking_rate</th>\n",
       "    </tr>\n",
       "  </thead>\n",
       "  <tbody>\n",
       "    <tr>\n",
       "      <th>89</th>\n",
       "      <td>254</td>\n",
       "      <td>1</td>\n",
       "      <td>283</td>\n",
       "      <td>0.769022</td>\n",
       "    </tr>\n",
       "    <tr>\n",
       "      <th>90</th>\n",
       "      <td>255</td>\n",
       "      <td>1</td>\n",
       "      <td>284</td>\n",
       "      <td>0.771739</td>\n",
       "    </tr>\n",
       "    <tr>\n",
       "      <th>91</th>\n",
       "      <td>258</td>\n",
       "      <td>1</td>\n",
       "      <td>285</td>\n",
       "      <td>0.774457</td>\n",
       "    </tr>\n",
       "    <tr>\n",
       "      <th>92</th>\n",
       "      <td>259</td>\n",
       "      <td>1</td>\n",
       "      <td>286</td>\n",
       "      <td>0.777174</td>\n",
       "    </tr>\n",
       "    <tr>\n",
       "      <th>93</th>\n",
       "      <td>266</td>\n",
       "      <td>1</td>\n",
       "      <td>291</td>\n",
       "      <td>0.790761</td>\n",
       "    </tr>\n",
       "  </tbody>\n",
       "</table>\n",
       "</div>"
      ],
      "text/plain": [
       "    user_id  department  ranking  ranking_rate\n",
       "89      254           1      283      0.769022\n",
       "90      255           1      284      0.771739\n",
       "91      258           1      285      0.774457\n",
       "92      259           1      286      0.777174\n",
       "93      266           1      291      0.790761"
      ]
     },
     "execution_count": 38,
     "metadata": {},
     "output_type": "execute_result"
    }
   ],
   "source": [
    "frames=[department1,department2,department3,department4,department5,department6,department7,department8,department9,\n",
    "        department10,department11,department12,department13,department14,department15,department16,department17,department18,department19]\n",
    "score_ranking=pd.concat(frames)\n",
    "score_ranking.head()"
   ]
  },
  {
   "cell_type": "code",
   "execution_count": 39,
   "metadata": {},
   "outputs": [
    {
     "data": {
      "text/html": [
       "<div>\n",
       "<style scoped>\n",
       "    .dataframe tbody tr th:only-of-type {\n",
       "        vertical-align: middle;\n",
       "    }\n",
       "\n",
       "    .dataframe tbody tr th {\n",
       "        vertical-align: top;\n",
       "    }\n",
       "\n",
       "    .dataframe thead th {\n",
       "        text-align: right;\n",
       "    }\n",
       "</style>\n",
       "<table border=\"1\" class=\"dataframe\">\n",
       "  <thead>\n",
       "    <tr style=\"text-align: right;\">\n",
       "      <th></th>\n",
       "      <th>user_id</th>\n",
       "      <th>食堂</th>\n",
       "      <th>合计</th>\n",
       "      <th>恩格尔系数</th>\n",
       "      <th>date</th>\n",
       "      <th>daliy_consumption</th>\n",
       "      <th>subsidy</th>\n",
       "      <th>department</th>\n",
       "      <th>ranking</th>\n",
       "      <th>ranking_rate</th>\n",
       "    </tr>\n",
       "  </thead>\n",
       "  <tbody>\n",
       "    <tr>\n",
       "      <th>0</th>\n",
       "      <td>0</td>\n",
       "      <td>630.81</td>\n",
       "      <td>2323.14</td>\n",
       "      <td>0.2715</td>\n",
       "      <td>186</td>\n",
       "      <td>12.49</td>\n",
       "      <td>0</td>\n",
       "      <td>9</td>\n",
       "      <td>1</td>\n",
       "      <td>0.000341</td>\n",
       "    </tr>\n",
       "    <tr>\n",
       "      <th>1</th>\n",
       "      <td>1</td>\n",
       "      <td>1507.80</td>\n",
       "      <td>2831.97</td>\n",
       "      <td>0.5324</td>\n",
       "      <td>140</td>\n",
       "      <td>20.23</td>\n",
       "      <td>0</td>\n",
       "      <td>9</td>\n",
       "      <td>2</td>\n",
       "      <td>0.000682</td>\n",
       "    </tr>\n",
       "    <tr>\n",
       "      <th>2</th>\n",
       "      <td>8</td>\n",
       "      <td>378.15</td>\n",
       "      <td>5329.15</td>\n",
       "      <td>0.0710</td>\n",
       "      <td>281</td>\n",
       "      <td>18.96</td>\n",
       "      <td>0</td>\n",
       "      <td>6</td>\n",
       "      <td>1565</td>\n",
       "      <td>0.996815</td>\n",
       "    </tr>\n",
       "    <tr>\n",
       "      <th>3</th>\n",
       "      <td>9</td>\n",
       "      <td>1875.60</td>\n",
       "      <td>7174.15</td>\n",
       "      <td>0.2614</td>\n",
       "      <td>271</td>\n",
       "      <td>26.47</td>\n",
       "      <td>0</td>\n",
       "      <td>6</td>\n",
       "      <td>1570</td>\n",
       "      <td>1.000000</td>\n",
       "    </tr>\n",
       "    <tr>\n",
       "      <th>4</th>\n",
       "      <td>10</td>\n",
       "      <td>920.54</td>\n",
       "      <td>2854.71</td>\n",
       "      <td>0.3225</td>\n",
       "      <td>209</td>\n",
       "      <td>13.66</td>\n",
       "      <td>0</td>\n",
       "      <td>3</td>\n",
       "      <td>1</td>\n",
       "      <td>0.000439</td>\n",
       "    </tr>\n",
       "  </tbody>\n",
       "</table>\n",
       "</div>"
      ],
      "text/plain": [
       "   user_id       食堂       合计   恩格尔系数  date  daliy_consumption  subsidy  \\\n",
       "0        0   630.81  2323.14  0.2715   186              12.49        0   \n",
       "1        1  1507.80  2831.97  0.5324   140              20.23        0   \n",
       "2        8   378.15  5329.15  0.0710   281              18.96        0   \n",
       "3        9  1875.60  7174.15  0.2614   271              26.47        0   \n",
       "4       10   920.54  2854.71  0.3225   209              13.66        0   \n",
       "\n",
       "   department  ranking  ranking_rate  \n",
       "0           9        1      0.000341  \n",
       "1           9        2      0.000682  \n",
       "2           6     1565      0.996815  \n",
       "3           6     1570      1.000000  \n",
       "4           3        1      0.000439  "
      ]
     },
     "execution_count": 39,
     "metadata": {},
     "output_type": "execute_result"
    }
   ],
   "source": [
    "consume_subsidy_ranking=pd.merge(consume_subsidy,score_ranking,how='inner',on='user_id')\n",
    "consume_subsidy_ranking1=pd.merge(consume_subsidy1,score_ranking,how='inner',on='user_id')\n",
    "consume_subsidy_ranking2=pd.merge(consume_subsidy2,score_ranking,how='inner',on='user_id')\n",
    "consume_subsidy_ranking.head()"
   ]
  },
  {
   "cell_type": "code",
   "execution_count": 40,
   "metadata": {
    "scrolled": true
   },
   "outputs": [
    {
     "data": {
      "text/plain": [
       "<matplotlib.axes._subplots.AxesSubplot at 0x1a6600fc588>"
      ]
     },
     "execution_count": 40,
     "metadata": {},
     "output_type": "execute_result"
    },
    {
     "data": {
      "image/png": "[encoded data removed]",
      "text/plain": [
       "<Figure size 432x288 with 1 Axes>"
      ]
     },
     "metadata": {
      "needs_background": "light"
     },
     "output_type": "display_data"
    }
   ],
   "source": [
    "consume_subsidy_ranking1['ranking_rate'].hist(bins=250)"
   ]
  },
  {
   "cell_type": "code",
   "execution_count": 41,
   "metadata": {},
   "outputs": [
    {
     "data": {
      "text/plain": [
       "<matplotlib.axes._subplots.AxesSubplot at 0x1a66084d668>"
      ]
     },
     "execution_count": 41,
     "metadata": {},
     "output_type": "execute_result"
    },
    {
     "data": {
      "image/png": "[encoded data removed]",
      "text/plain": [
       "<Figure size 432x288 with 1 Axes>"
      ]
     },
     "metadata": {
      "needs_background": "light"
     },
     "output_type": "display_data"
    }
   ],
   "source": [
    "consume_subsidy_ranking2['ranking_rate'].hist(bins=250)"
   ]
  },
  {
   "cell_type": "code",
   "execution_count": 42,
   "metadata": {},
   "outputs": [
    {
     "data": {
      "text/plain": [
       "<matplotlib.axes._subplots.AxesSubplot at 0x1a661e05c88>"
      ]
     },
     "execution_count": 42,
     "metadata": {},
     "output_type": "execute_result"
    },
    {
     "data": {
      "image/png": "[encoded data removed]",
      "text/plain": [
       "<Figure size 432x288 with 1 Axes>"
      ]
     },
     "metadata": {
      "needs_background": "light"
     },
     "output_type": "display_data"
    }
   ],
   "source": [
    "consume_subsidy_ranking.boxplot(column='ranking_rate',by='subsidy')\n",
    "#领取subsidy的同学成绩相对好一些"
   ]
  },
  {
   "cell_type": "code",
   "execution_count": 43,
   "metadata": {},
   "outputs": [
    {
     "data": {
      "text/plain": [
       "<matplotlib.collections.PathCollection at 0x1a6620cb710>"
      ]
     },
     "execution_count": 43,
     "metadata": {},
     "output_type": "execute_result"
    },
    {
     "data": {
      "image/png": "[encoded data removed]",
      "text/plain": [
       "<Figure size 800x800 with 1 Axes>"
      ]
     },
     "metadata": {
      "needs_background": "light"
     },
     "output_type": "display_data"
    }
   ],
   "source": [
    "#消费水平和成绩之间的关系\n",
    "fig=plt.figure(figsize=(8,8),dpi=100)\n",
    "plt.scatter(consume_subsidy_ranking['ranking_rate'],consume_subsidy_ranking['daliy_consumption'])"
   ]
  },
  {
   "cell_type": "code",
   "execution_count": null,
   "metadata": {},
   "outputs": [],
   "source": []
  },
  {
   "cell_type": "code",
   "execution_count": null,
   "metadata": {},
   "outputs": [],
   "source": []
  },
  {
   "cell_type": "code",
   "execution_count": null,
   "metadata": {},
   "outputs": [],
   "source": []
  }
 ],
 "metadata": {
  "kernelspec": {
   "display_name": "Python 3",
   "language": "python",
   "name": "python3"
  },
  "language_info": {
   "codemirror_mode": {
    "name": "ipython",
    "version": 3
   },
   "file_extension": ".py",
   "mimetype": "text/x-python",
   "name": "python",
   "nbconvert_exporter": "python",
   "pygments_lexer": "ipython3",
   "version": "3.7.0"
  }
 },
 "nbformat": 4,
 "nbformat_minor": 2
}
